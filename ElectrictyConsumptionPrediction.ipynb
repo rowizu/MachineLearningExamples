{
  "nbformat": 4,
  "nbformat_minor": 0,
  "metadata": {
    "colab": {
      "name": "after2005_aggregated by season etc_ElectrictyConsumptionPrediction.ipynb",
      "provenance": [],
      "collapsed_sections": [],
      "authorship_tag": "ABX9TyMAnvfW+9kW84d2eUJ1DhsL",
      "include_colab_link": true
    },
    "kernelspec": {
      "name": "python3",
      "display_name": "Python 3"
    }
  },
  "cells": [
    {
      "cell_type": "markdown",
      "metadata": {
        "id": "view-in-github",
        "colab_type": "text"
      },
      "source": [
        "<a href=\"https://colab.research.google.com/github/rowizu/MachineLearningExamples/blob/master/ElectrictyConsumptionPrediction.ipynb\" target=\"_parent\"><img src=\"https://colab.research.google.com/assets/colab-badge.svg\" alt=\"Open In Colab\"/></a>"
      ]
    },
    {
      "cell_type": "markdown",
      "metadata": {
        "id": "sPaf7BgTLyQ3"
      },
      "source": [
        "#Building the dataset"
      ]
    },
    {
      "cell_type": "markdown",
      "metadata": {
        "id": "IIwVFOXhL-OZ"
      },
      "source": [
        "Dataset imported from kaggle website that it's partailly matching the requested data structure. \n",
        "\n",
        "Dataset name: Hourly Energy Consumption\n",
        "\n",
        "It contains over 10 years of hourly energy consumption data from [PJM ](https://www.pjm.com/)in Megawatts.\n",
        "\n",
        "License: Pubic Domain. \n",
        "\n",
        "9 Accounts that provided there energy consumption data were named in strings so i assigned them ids as following: \n",
        "\n",
        "AEP: American Electric Power (ID:1)\n",
        "\n",
        "Comed: Commonwealth Edison(ID:2)\n",
        "\n",
        "DAYTON: Dayton Power & Light (ID:3)\n",
        "\n",
        "DEOK: DEOK (ID:4)\n",
        "\n",
        "DOM: Dominion Virginia Power (ID:5)\n",
        "\n",
        "EKPC: East Kentucky Power Cooperative (ID:6)\n",
        "\n",
        "FE: FirstEnergy (ID:7)\n",
        "\n",
        "DUQ: Duquesne Light Co. (ID:8)\n",
        "\n",
        "NI: Northern Hub (ID:9)\n",
        "\n",
        "\n",
        "[Dataset](https://www.kaggle.com/robikscube/hourly-energy-consumption/download)"
      ]
    },
    {
      "cell_type": "markdown",
      "metadata": {
        "id": "g_DR-B_QmlAW"
      },
      "source": [
        "###Importing required library to load the data"
      ]
    },
    {
      "cell_type": "code",
      "metadata": {
        "id": "I2Rvr1nICkdI"
      },
      "source": [
        "import pandas as pd \n",
        "import numpy as np \n",
        "import io"
      ],
      "execution_count": 245,
      "outputs": []
    },
    {
      "cell_type": "markdown",
      "metadata": {
        "id": "dyz3h5R_kMbR"
      },
      "source": [
        "##Loading the dataset"
      ]
    },
    {
      "cell_type": "code",
      "metadata": {
        "colab": {
          "resources": {
            "http://localhost:8080/nbextensions/google.colab/files.js": {
              "data": "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",
              "ok": true,
              "headers": [
                [
                  "content-type",
                  "application/javascript"
                ]
              ],
              "status": 200,
              "status_text": ""
            }
          },
          "base_uri": "https://localhost:8080/",
          "height": 379
        },
        "id": "3alcse6eHHA7",
        "outputId": "fdf92bfb-53be-40fd-e316-a11a689c59e6"
      },
      "source": [
        "#Uploading the dataset compressed file\n",
        "from google.colab import files\n",
        "uploaded = files.upload()"
      ],
      "execution_count": 246,
      "outputs": [
        {
          "output_type": "display_data",
          "data": {
            "text/html": [
              "\n",
              "     <input type=\"file\" id=\"files-38729639-40ce-41e7-96b1-fc3d593b7669\" name=\"files[]\" multiple disabled\n",
              "        style=\"border:none\" />\n",
              "     <output id=\"result-38729639-40ce-41e7-96b1-fc3d593b7669\">\n",
              "      Upload widget is only available when the cell has been executed in the\n",
              "      current browser session. Please rerun this cell to enable.\n",
              "      </output>\n",
              "      <script src=\"/nbextensions/google.colab/files.js\"></script> "
            ],
            "text/plain": [
              "<IPython.core.display.HTML object>"
            ]
          },
          "metadata": {
            "tags": []
          }
        },
        {
          "output_type": "error",
          "ename": "KeyboardInterrupt",
          "evalue": "ignored",
          "traceback": [
            "\u001b[0;31m---------------------------------------------------------------------------\u001b[0m",
            "\u001b[0;31mKeyboardInterrupt\u001b[0m                         Traceback (most recent call last)",
            "\u001b[0;32m<ipython-input-246-d6c0cf936ab5>\u001b[0m in \u001b[0;36m<module>\u001b[0;34m()\u001b[0m\n\u001b[1;32m      1\u001b[0m \u001b[0;31m#Uploading the dataset compressed file\u001b[0m\u001b[0;34m\u001b[0m\u001b[0;34m\u001b[0m\u001b[0;34m\u001b[0m\u001b[0m\n\u001b[1;32m      2\u001b[0m \u001b[0;32mfrom\u001b[0m \u001b[0mgoogle\u001b[0m\u001b[0;34m.\u001b[0m\u001b[0mcolab\u001b[0m \u001b[0;32mimport\u001b[0m \u001b[0mfiles\u001b[0m\u001b[0;34m\u001b[0m\u001b[0;34m\u001b[0m\u001b[0m\n\u001b[0;32m----> 3\u001b[0;31m \u001b[0muploaded\u001b[0m \u001b[0;34m=\u001b[0m \u001b[0mfiles\u001b[0m\u001b[0;34m.\u001b[0m\u001b[0mupload\u001b[0m\u001b[0;34m(\u001b[0m\u001b[0;34m)\u001b[0m\u001b[0;34m\u001b[0m\u001b[0;34m\u001b[0m\u001b[0m\n\u001b[0m",
            "\u001b[0;32m/usr/local/lib/python3.6/dist-packages/google/colab/files.py\u001b[0m in \u001b[0;36mupload\u001b[0;34m()\u001b[0m\n\u001b[1;32m     62\u001b[0m   result = _output.eval_js(\n\u001b[1;32m     63\u001b[0m       'google.colab._files._uploadFiles(\"{input_id}\", \"{output_id}\")'.format(\n\u001b[0;32m---> 64\u001b[0;31m           input_id=input_id, output_id=output_id))\n\u001b[0m\u001b[1;32m     65\u001b[0m   \u001b[0mfiles\u001b[0m \u001b[0;34m=\u001b[0m \u001b[0m_collections\u001b[0m\u001b[0;34m.\u001b[0m\u001b[0mdefaultdict\u001b[0m\u001b[0;34m(\u001b[0m\u001b[0m_six\u001b[0m\u001b[0;34m.\u001b[0m\u001b[0mbinary_type\u001b[0m\u001b[0;34m)\u001b[0m\u001b[0;34m\u001b[0m\u001b[0;34m\u001b[0m\u001b[0m\n\u001b[1;32m     66\u001b[0m   \u001b[0;31m# Mapping from original filename to filename as saved locally.\u001b[0m\u001b[0;34m\u001b[0m\u001b[0;34m\u001b[0m\u001b[0;34m\u001b[0m\u001b[0m\n",
            "\u001b[0;32m/usr/local/lib/python3.6/dist-packages/google/colab/output/_js.py\u001b[0m in \u001b[0;36meval_js\u001b[0;34m(script, ignore_result, timeout_sec)\u001b[0m\n\u001b[1;32m     38\u001b[0m   \u001b[0;32mif\u001b[0m \u001b[0mignore_result\u001b[0m\u001b[0;34m:\u001b[0m\u001b[0;34m\u001b[0m\u001b[0;34m\u001b[0m\u001b[0m\n\u001b[1;32m     39\u001b[0m     \u001b[0;32mreturn\u001b[0m\u001b[0;34m\u001b[0m\u001b[0;34m\u001b[0m\u001b[0m\n\u001b[0;32m---> 40\u001b[0;31m   \u001b[0;32mreturn\u001b[0m \u001b[0m_message\u001b[0m\u001b[0;34m.\u001b[0m\u001b[0mread_reply_from_input\u001b[0m\u001b[0;34m(\u001b[0m\u001b[0mrequest_id\u001b[0m\u001b[0;34m,\u001b[0m \u001b[0mtimeout_sec\u001b[0m\u001b[0;34m)\u001b[0m\u001b[0;34m\u001b[0m\u001b[0;34m\u001b[0m\u001b[0m\n\u001b[0m\u001b[1;32m     41\u001b[0m \u001b[0;34m\u001b[0m\u001b[0m\n\u001b[1;32m     42\u001b[0m \u001b[0;34m\u001b[0m\u001b[0m\n",
            "\u001b[0;32m/usr/local/lib/python3.6/dist-packages/google/colab/_message.py\u001b[0m in \u001b[0;36mread_reply_from_input\u001b[0;34m(message_id, timeout_sec)\u001b[0m\n\u001b[1;32m     99\u001b[0m     \u001b[0mreply\u001b[0m \u001b[0;34m=\u001b[0m \u001b[0m_read_next_input_message\u001b[0m\u001b[0;34m(\u001b[0m\u001b[0;34m)\u001b[0m\u001b[0;34m\u001b[0m\u001b[0;34m\u001b[0m\u001b[0m\n\u001b[1;32m    100\u001b[0m     \u001b[0;32mif\u001b[0m \u001b[0mreply\u001b[0m \u001b[0;34m==\u001b[0m \u001b[0m_NOT_READY\u001b[0m \u001b[0;32mor\u001b[0m \u001b[0;32mnot\u001b[0m \u001b[0misinstance\u001b[0m\u001b[0;34m(\u001b[0m\u001b[0mreply\u001b[0m\u001b[0;34m,\u001b[0m \u001b[0mdict\u001b[0m\u001b[0;34m)\u001b[0m\u001b[0;34m:\u001b[0m\u001b[0;34m\u001b[0m\u001b[0;34m\u001b[0m\u001b[0m\n\u001b[0;32m--> 101\u001b[0;31m       \u001b[0mtime\u001b[0m\u001b[0;34m.\u001b[0m\u001b[0msleep\u001b[0m\u001b[0;34m(\u001b[0m\u001b[0;36m0.025\u001b[0m\u001b[0;34m)\u001b[0m\u001b[0;34m\u001b[0m\u001b[0;34m\u001b[0m\u001b[0m\n\u001b[0m\u001b[1;32m    102\u001b[0m       \u001b[0;32mcontinue\u001b[0m\u001b[0;34m\u001b[0m\u001b[0;34m\u001b[0m\u001b[0m\n\u001b[1;32m    103\u001b[0m     if (reply.get('type') == 'colab_reply' and\n",
            "\u001b[0;31mKeyboardInterrupt\u001b[0m: "
          ]
        }
      ]
    },
    {
      "cell_type": "code",
      "metadata": {
        "id": "jg2pzHiYJln6"
      },
      "source": [
        "#decompressing the zip files and deleting the zip files\n",
        "!unzip \\*.zip  && rm *.zip"
      ],
      "execution_count": null,
      "outputs": []
    },
    {
      "cell_type": "code",
      "metadata": {
        "id": "tGhNxItQJ1y2"
      },
      "source": [
        "#Create the dataframes and reading the csv files \n",
        "df1 = pd.read_csv('AEP_hourly.csv')\n",
        "df2= pd.read_csv('COMED_hourly.csv')\n",
        "df3= pd.read_csv('DAYTON_hourly.csv')\n",
        "df4= pd.read_csv('DEOK_hourly.csv')\n",
        "df5= pd.read_csv('DOM_hourly.csv')\n",
        "df6= pd.read_csv('EKPC_hourly.csv')\n",
        "df7= pd.read_csv('FE_hourly.csv') \n",
        "df8= pd.read_csv('DUQ_hourly.csv')\n",
        "df9= pd.read_csv('NI_hourly.csv')\n",
        "\n"
      ],
      "execution_count": null,
      "outputs": []
    },
    {
      "cell_type": "code",
      "metadata": {
        "id": "sdnEWQhJ1U5Y"
      },
      "source": [
        "#Renaming the power consumption column to a unified name in all of the dataframes\n",
        "df1.rename(columns={df1.columns[1]: 'consumption_value'}, inplace=True)\n",
        "df2.rename(columns={df2.columns[1]: 'consumption_value'}, inplace=True)\n",
        "df3.rename(columns={df3.columns[1]: 'consumption_value'}, inplace=True)\n",
        "df4.rename(columns={df4.columns[1]: 'consumption_value'}, inplace=True)\n",
        "df5.rename(columns={df5.columns[1]: 'consumption_value'}, inplace=True)\n",
        "df6.rename(columns={df6.columns[1]: 'consumption_value'}, inplace=True)\n",
        "df7.rename(columns={df7.columns[1]: 'consumption_value'}, inplace=True)\n",
        "df8.rename(columns={df8.columns[1]: 'consumption_value'}, inplace=True)\n",
        "df9.rename(columns={df9.columns[1]: 'consumption_value'}, inplace=True)\n"
      ],
      "execution_count": null,
      "outputs": []
    },
    {
      "cell_type": "code",
      "metadata": {
        "id": "JOsmpQpQCZQE"
      },
      "source": [
        "#Assighning the account numbers and adding the column to the data frames\n",
        "df1['account_number'] = 1\n",
        "df2['account_number'] = 2\n",
        "df3['account_number'] = 3\n",
        "df4['account_number'] = 4\n",
        "df5['account_number'] = 5\n",
        "df6['account_number'] = 6\n",
        "df7['account_number'] = 7\n",
        "df8['account_number'] = 8\n",
        "df9['account_number'] = 9\n"
      ],
      "execution_count": null,
      "outputs": []
    },
    {
      "cell_type": "markdown",
      "metadata": {
        "id": "Td0roRsLLxWT"
      },
      "source": [
        "As there is no meter reading column provided with the data, i assumed meter was installed the first date that the data was provided by each account, and calculated the cumulatie sum of power consumption."
      ]
    },
    {
      "cell_type": "code",
      "metadata": {
        "id": "ZuM5IF7DkQhg"
      },
      "source": [
        "# A function to derive a meter reading attribute from the power consumption value\n",
        "def add_meterReading(dataframe):\n",
        "  dataframe= dataframe.sort_values(by=['Datetime'])\n",
        "  dataframe.set_index('Datetime')\n",
        "  dataframe['meter_reading'] = dataframe.consumption_value.cumsum()\n",
        "  return dataframe"
      ],
      "execution_count": null,
      "outputs": []
    },
    {
      "cell_type": "code",
      "metadata": {
        "id": "QIqu5i9O74EQ"
      },
      "source": [
        "# Adding the columns to the dataframes\n",
        "df1=add_meterReading(df1)\n",
        "df2=add_meterReading(df2)\n",
        "df3=add_meterReading(df3)\n",
        "df4=add_meterReading(df4)\n",
        "df5=add_meterReading(df5)\n",
        "df6=add_meterReading(df6)\n",
        "df7=add_meterReading(df7)\n",
        "df8=add_meterReading(df8)\n",
        "df9=add_meterReading(df9)\n"
      ],
      "execution_count": null,
      "outputs": []
    },
    {
      "cell_type": "code",
      "metadata": {
        "id": "42-BBrCNyGZ1"
      },
      "source": [
        "#concating the dataframes \n",
        "df=pd.concat([df1, df2, df3, df4, df5, df6, df7, df8, df9])"
      ],
      "execution_count": 321,
      "outputs": []
    },
    {
      "cell_type": "code",
      "metadata": {
        "id": "r9bUykt0DBBk",
        "colab": {
          "base_uri": "https://localhost:8080/",
          "height": 419
        },
        "outputId": "13e5fb48-4016-4b2f-ac32-efb16ae3ef85"
      },
      "source": [
        "#Checking missing values\n",
        "pd.isna(df)"
      ],
      "execution_count": 322,
      "outputs": [
        {
          "output_type": "execute_result",
          "data": {
            "text/html": [
              "<div>\n",
              "<style scoped>\n",
              "    .dataframe tbody tr th:only-of-type {\n",
              "        vertical-align: middle;\n",
              "    }\n",
              "\n",
              "    .dataframe tbody tr th {\n",
              "        vertical-align: top;\n",
              "    }\n",
              "\n",
              "    .dataframe thead th {\n",
              "        text-align: right;\n",
              "    }\n",
              "</style>\n",
              "<table border=\"1\" class=\"dataframe\">\n",
              "  <thead>\n",
              "    <tr style=\"text-align: right;\">\n",
              "      <th></th>\n",
              "      <th>Datetime</th>\n",
              "      <th>consumption_value</th>\n",
              "      <th>account_number</th>\n",
              "      <th>meter_reading</th>\n",
              "    </tr>\n",
              "  </thead>\n",
              "  <tbody>\n",
              "    <tr>\n",
              "      <th>2183</th>\n",
              "      <td>False</td>\n",
              "      <td>False</td>\n",
              "      <td>False</td>\n",
              "      <td>False</td>\n",
              "    </tr>\n",
              "    <tr>\n",
              "      <th>2184</th>\n",
              "      <td>False</td>\n",
              "      <td>False</td>\n",
              "      <td>False</td>\n",
              "      <td>False</td>\n",
              "    </tr>\n",
              "    <tr>\n",
              "      <th>2185</th>\n",
              "      <td>False</td>\n",
              "      <td>False</td>\n",
              "      <td>False</td>\n",
              "      <td>False</td>\n",
              "    </tr>\n",
              "    <tr>\n",
              "      <th>2186</th>\n",
              "      <td>False</td>\n",
              "      <td>False</td>\n",
              "      <td>False</td>\n",
              "      <td>False</td>\n",
              "    </tr>\n",
              "    <tr>\n",
              "      <th>2187</th>\n",
              "      <td>False</td>\n",
              "      <td>False</td>\n",
              "      <td>False</td>\n",
              "      <td>False</td>\n",
              "    </tr>\n",
              "    <tr>\n",
              "      <th>...</th>\n",
              "      <td>...</td>\n",
              "      <td>...</td>\n",
              "      <td>...</td>\n",
              "      <td>...</td>\n",
              "    </tr>\n",
              "    <tr>\n",
              "      <th>49712</th>\n",
              "      <td>False</td>\n",
              "      <td>False</td>\n",
              "      <td>False</td>\n",
              "      <td>False</td>\n",
              "    </tr>\n",
              "    <tr>\n",
              "      <th>49713</th>\n",
              "      <td>False</td>\n",
              "      <td>False</td>\n",
              "      <td>False</td>\n",
              "      <td>False</td>\n",
              "    </tr>\n",
              "    <tr>\n",
              "      <th>49714</th>\n",
              "      <td>False</td>\n",
              "      <td>False</td>\n",
              "      <td>False</td>\n",
              "      <td>False</td>\n",
              "    </tr>\n",
              "    <tr>\n",
              "      <th>49715</th>\n",
              "      <td>False</td>\n",
              "      <td>False</td>\n",
              "      <td>False</td>\n",
              "      <td>False</td>\n",
              "    </tr>\n",
              "    <tr>\n",
              "      <th>49716</th>\n",
              "      <td>False</td>\n",
              "      <td>False</td>\n",
              "      <td>False</td>\n",
              "      <td>False</td>\n",
              "    </tr>\n",
              "  </tbody>\n",
              "</table>\n",
              "<p>768699 rows × 4 columns</p>\n",
              "</div>"
            ],
            "text/plain": [
              "       Datetime  consumption_value  account_number  meter_reading\n",
              "2183      False              False           False          False\n",
              "2184      False              False           False          False\n",
              "2185      False              False           False          False\n",
              "2186      False              False           False          False\n",
              "2187      False              False           False          False\n",
              "...         ...                ...             ...            ...\n",
              "49712     False              False           False          False\n",
              "49713     False              False           False          False\n",
              "49714     False              False           False          False\n",
              "49715     False              False           False          False\n",
              "49716     False              False           False          False\n",
              "\n",
              "[768699 rows x 4 columns]"
            ]
          },
          "metadata": {
            "tags": []
          },
          "execution_count": 322
        }
      ]
    },
    {
      "cell_type": "code",
      "metadata": {
        "id": "_ckmml_vzSCx"
      },
      "source": [
        "#Seperating the Hours from date column \n",
        "df[\"Datetime\"] = pd.to_datetime(df[\"Datetime\"])\n",
        "df[\"consumptionTime\"] = df[\"Datetime\"].dt.hour\n",
        "df[\"consumptionDate\"] = df[\"Datetime\"].dt.date\n"
      ],
      "execution_count": 323,
      "outputs": []
    },
    {
      "cell_type": "code",
      "metadata": {
        "id": "qPdFLsuPxMTi"
      },
      "source": [
        "#dropping the datetime column \n",
        "df=df.drop([\"Datetime\"],axis=1)"
      ],
      "execution_count": 324,
      "outputs": []
    },
    {
      "cell_type": "code",
      "metadata": {
        "id": "3qpDpBF6zXdy",
        "colab": {
          "base_uri": "https://localhost:8080/",
          "height": 419
        },
        "outputId": "6e3407d4-7cc6-4b6c-808c-fb35c33af2e5"
      },
      "source": [
        "#Now the data is exactly followig the provided structure \n",
        "df"
      ],
      "execution_count": 325,
      "outputs": [
        {
          "output_type": "execute_result",
          "data": {
            "text/html": [
              "<div>\n",
              "<style scoped>\n",
              "    .dataframe tbody tr th:only-of-type {\n",
              "        vertical-align: middle;\n",
              "    }\n",
              "\n",
              "    .dataframe tbody tr th {\n",
              "        vertical-align: top;\n",
              "    }\n",
              "\n",
              "    .dataframe thead th {\n",
              "        text-align: right;\n",
              "    }\n",
              "</style>\n",
              "<table border=\"1\" class=\"dataframe\">\n",
              "  <thead>\n",
              "    <tr style=\"text-align: right;\">\n",
              "      <th></th>\n",
              "      <th>consumption_value</th>\n",
              "      <th>account_number</th>\n",
              "      <th>meter_reading</th>\n",
              "      <th>consumptionTime</th>\n",
              "      <th>consumptionDate</th>\n",
              "    </tr>\n",
              "  </thead>\n",
              "  <tbody>\n",
              "    <tr>\n",
              "      <th>2183</th>\n",
              "      <td>12379.0</td>\n",
              "      <td>1</td>\n",
              "      <td>12379.0</td>\n",
              "      <td>1</td>\n",
              "      <td>2004-10-01</td>\n",
              "    </tr>\n",
              "    <tr>\n",
              "      <th>2184</th>\n",
              "      <td>11935.0</td>\n",
              "      <td>1</td>\n",
              "      <td>24314.0</td>\n",
              "      <td>2</td>\n",
              "      <td>2004-10-01</td>\n",
              "    </tr>\n",
              "    <tr>\n",
              "      <th>2185</th>\n",
              "      <td>11692.0</td>\n",
              "      <td>1</td>\n",
              "      <td>36006.0</td>\n",
              "      <td>3</td>\n",
              "      <td>2004-10-01</td>\n",
              "    </tr>\n",
              "    <tr>\n",
              "      <th>2186</th>\n",
              "      <td>11597.0</td>\n",
              "      <td>1</td>\n",
              "      <td>47603.0</td>\n",
              "      <td>4</td>\n",
              "      <td>2004-10-01</td>\n",
              "    </tr>\n",
              "    <tr>\n",
              "      <th>2187</th>\n",
              "      <td>11681.0</td>\n",
              "      <td>1</td>\n",
              "      <td>59284.0</td>\n",
              "      <td>5</td>\n",
              "      <td>2004-10-01</td>\n",
              "    </tr>\n",
              "    <tr>\n",
              "      <th>...</th>\n",
              "      <td>...</td>\n",
              "      <td>...</td>\n",
              "      <td>...</td>\n",
              "      <td>...</td>\n",
              "      <td>...</td>\n",
              "    </tr>\n",
              "    <tr>\n",
              "      <th>49712</th>\n",
              "      <td>11585.0</td>\n",
              "      <td>9</td>\n",
              "      <td>683920747.0</td>\n",
              "      <td>20</td>\n",
              "      <td>2010-12-31</td>\n",
              "    </tr>\n",
              "    <tr>\n",
              "      <th>49713</th>\n",
              "      <td>11243.0</td>\n",
              "      <td>9</td>\n",
              "      <td>683931990.0</td>\n",
              "      <td>21</td>\n",
              "      <td>2010-12-31</td>\n",
              "    </tr>\n",
              "    <tr>\n",
              "      <th>49714</th>\n",
              "      <td>10825.0</td>\n",
              "      <td>9</td>\n",
              "      <td>683942815.0</td>\n",
              "      <td>22</td>\n",
              "      <td>2010-12-31</td>\n",
              "    </tr>\n",
              "    <tr>\n",
              "      <th>49715</th>\n",
              "      <td>10511.0</td>\n",
              "      <td>9</td>\n",
              "      <td>683953326.0</td>\n",
              "      <td>23</td>\n",
              "      <td>2010-12-31</td>\n",
              "    </tr>\n",
              "    <tr>\n",
              "      <th>49716</th>\n",
              "      <td>10042.0</td>\n",
              "      <td>9</td>\n",
              "      <td>683963368.0</td>\n",
              "      <td>0</td>\n",
              "      <td>2011-01-01</td>\n",
              "    </tr>\n",
              "  </tbody>\n",
              "</table>\n",
              "<p>768699 rows × 5 columns</p>\n",
              "</div>"
            ],
            "text/plain": [
              "       consumption_value  account_number  ...  consumptionTime  consumptionDate\n",
              "2183             12379.0               1  ...                1       2004-10-01\n",
              "2184             11935.0               1  ...                2       2004-10-01\n",
              "2185             11692.0               1  ...                3       2004-10-01\n",
              "2186             11597.0               1  ...                4       2004-10-01\n",
              "2187             11681.0               1  ...                5       2004-10-01\n",
              "...                  ...             ...  ...              ...              ...\n",
              "49712            11585.0               9  ...               20       2010-12-31\n",
              "49713            11243.0               9  ...               21       2010-12-31\n",
              "49714            10825.0               9  ...               22       2010-12-31\n",
              "49715            10511.0               9  ...               23       2010-12-31\n",
              "49716            10042.0               9  ...                0       2011-01-01\n",
              "\n",
              "[768699 rows x 5 columns]"
            ]
          },
          "metadata": {
            "tags": []
          },
          "execution_count": 325
        }
      ]
    },
    {
      "cell_type": "markdown",
      "metadata": {
        "id": "pFkHjptij748"
      },
      "source": [
        "#Exploratory Anaysis "
      ]
    },
    {
      "cell_type": "markdown",
      "metadata": {
        "id": "lPH3eDQNzRWo"
      },
      "source": [
        " ### Consumption Value Histogram and Boxplot\n"
      ]
    },
    {
      "cell_type": "code",
      "metadata": {
        "id": "e_9HlCzp8AuP",
        "colab": {
          "base_uri": "https://localhost:8080/",
          "height": 549
        },
        "outputId": "9ae99638-38ee-462e-b009-0e7b8941d761"
      },
      "source": [
        "#importing the required libraries and ignore warnings\n",
        "import matplotlib.pyplot as plt \n",
        "import seaborn as sns\n",
        "import warnings\n",
        "warnings.filterwarnings('ignore')\n",
        "#Using matplotlib\n",
        "plt.hist(df['consumption_value'], bins=14, color='SkyBlue')\n",
        "plt.show()\n",
        "#using seaborn\n",
        "sns.distplot(df['consumption_value'])\n"
      ],
      "execution_count": 326,
      "outputs": [
        {
          "output_type": "display_data",
          "data": {
            "image/png": "[encoded data removed]",
            "text/plain": [
              "<Figure size 432x288 with 1 Axes>"
            ]
          },
          "metadata": {
            "tags": [],
            "needs_background": "light"
          }
        },
        {
          "output_type": "execute_result",
          "data": {
            "text/plain": [
              "<matplotlib.axes._subplots.AxesSubplot at 0x7f2724cc90b8>"
            ]
          },
          "metadata": {
            "tags": []
          },
          "execution_count": 326
        },
        {
          "output_type": "display_data",
          "data": {
            "image/png": "[encoded data removed]",
            "text/plain": [
              "<Figure size 432x288 with 1 Axes>"
            ]
          },
          "metadata": {
            "tags": [],
            "needs_background": "light"
          }
        }
      ]
    },
    {
      "cell_type": "code",
      "metadata": {
        "id": "E6md638RAGA5",
        "colab": {
          "base_uri": "https://localhost:8080/",
          "height": 269
        },
        "outputId": "a9b5ca42-fe36-476f-c584-646f6a4aaa88"
      },
      "source": [
        "#Boxplot for the spread measure of price variable\n",
        "sns.boxplot(y=df['consumption_value'], color='SkyBlue')"
      ],
      "execution_count": 327,
      "outputs": [
        {
          "output_type": "execute_result",
          "data": {
            "text/plain": [
              "<matplotlib.axes._subplots.AxesSubplot at 0x7f272695de10>"
            ]
          },
          "metadata": {
            "tags": []
          },
          "execution_count": 327
        },
        {
          "output_type": "display_data",
          "data": {
            "image/png": "[encoded data removed]",
            "text/plain": [
              "<Figure size 432x288 with 1 Axes>"
            ]
          },
          "metadata": {
            "tags": [],
            "needs_background": "light"
          }
        }
      ]
    },
    {
      "cell_type": "markdown",
      "metadata": {
        "id": "_k7bOyXhAt-h"
      },
      "source": [
        "## Exploring the Categorical values"
      ]
    },
    {
      "cell_type": "code",
      "metadata": {
        "id": "AFBZkehmA00r",
        "colab": {
          "base_uri": "https://localhost:8080/",
          "height": 285
        },
        "outputId": "e957c6e4-ecd7-4119-ffff-6ef2bea5c74d"
      },
      "source": [
        "df['consumptionTime'].value_counts().plot(kind='bar', color='SkyBlue')"
      ],
      "execution_count": 328,
      "outputs": [
        {
          "output_type": "execute_result",
          "data": {
            "text/plain": [
              "<matplotlib.axes._subplots.AxesSubplot at 0x7f2724b70710>"
            ]
          },
          "metadata": {
            "tags": []
          },
          "execution_count": 328
        },
        {
          "output_type": "display_data",
          "data": {
            "image/png": "[encoded data removed]",
            "text/plain": [
              "<Figure size 432x288 with 1 Axes>"
            ]
          },
          "metadata": {
            "tags": [],
            "needs_background": "light"
          }
        }
      ]
    },
    {
      "cell_type": "markdown",
      "metadata": {
        "id": "JJXbyb4gHVl0"
      },
      "source": [
        "The hours frequency in our dataset are balanced "
      ]
    },
    {
      "cell_type": "markdown",
      "metadata": {
        "id": "ekBCMDumHe2r"
      },
      "source": [
        "As we have a limited features in our dataset, a derived features will help.\n",
        "\n",
        "We can derive a weather attribute from the months data"
      ]
    },
    {
      "cell_type": "code",
      "metadata": {
        "id": "dCAKk1SNHphz"
      },
      "source": [
        "#Splitting the months and days into seperated columns\n",
        "df[\"consumptionDate\"] = pd.to_datetime(df[\"consumptionDate\"])\n",
        "df[\"consumptionMonth\"] = df[\"consumptionDate\"].dt.month\n",
        "df[\"consumptionDay\"] = df[\"consumptionDate\"].dt.day\n"
      ],
      "execution_count": 329,
      "outputs": []
    },
    {
      "cell_type": "code",
      "metadata": {
        "id": "EEjjxvICIn_s"
      },
      "source": [
        "df[\"consumptionYear\"] = df[\"consumptionDate\"].dt.year"
      ],
      "execution_count": 330,
      "outputs": []
    },
    {
      "cell_type": "code",
      "metadata": {
        "id": "DKEuGtJpwuwK"
      },
      "source": [
        " #Monday=0, Sunday=6.\n",
        "df['weekday'] = df[\"consumptionDate\"].dt.weekday\n"
      ],
      "execution_count": 331,
      "outputs": []
    },
    {
      "cell_type": "code",
      "metadata": {
        "id": "QDllkn780Wb5"
      },
      "source": [
        "#assigning seasons numbers:\n",
        "#1:Winter, 2:Spring , 3:Summer, 4: Fall\n",
        "df['season'] = df['consumptionMonth'].apply(lambda month_number: (month_number%12 + 3)//3)"
      ],
      "execution_count": 332,
      "outputs": []
    },
    {
      "cell_type": "code",
      "metadata": {
        "id": "iRTnqrWX2YfH",
        "colab": {
          "base_uri": "https://localhost:8080/",
          "height": 439
        },
        "outputId": "457c0ed7-8eb1-4b41-b312-a22773e81abf"
      },
      "source": [
        "df"
      ],
      "execution_count": 333,
      "outputs": [
        {
          "output_type": "execute_result",
          "data": {
            "text/html": [
              "<div>\n",
              "<style scoped>\n",
              "    .dataframe tbody tr th:only-of-type {\n",
              "        vertical-align: middle;\n",
              "    }\n",
              "\n",
              "    .dataframe tbody tr th {\n",
              "        vertical-align: top;\n",
              "    }\n",
              "\n",
              "    .dataframe thead th {\n",
              "        text-align: right;\n",
              "    }\n",
              "</style>\n",
              "<table border=\"1\" class=\"dataframe\">\n",
              "  <thead>\n",
              "    <tr style=\"text-align: right;\">\n",
              "      <th></th>\n",
              "      <th>consumption_value</th>\n",
              "      <th>account_number</th>\n",
              "      <th>meter_reading</th>\n",
              "      <th>consumptionTime</th>\n",
              "      <th>consumptionDate</th>\n",
              "      <th>consumptionMonth</th>\n",
              "      <th>consumptionDay</th>\n",
              "      <th>consumptionYear</th>\n",
              "      <th>weekday</th>\n",
              "      <th>season</th>\n",
              "    </tr>\n",
              "  </thead>\n",
              "  <tbody>\n",
              "    <tr>\n",
              "      <th>2183</th>\n",
              "      <td>12379.0</td>\n",
              "      <td>1</td>\n",
              "      <td>12379.0</td>\n",
              "      <td>1</td>\n",
              "      <td>2004-10-01</td>\n",
              "      <td>10</td>\n",
              "      <td>1</td>\n",
              "      <td>2004</td>\n",
              "      <td>4</td>\n",
              "      <td>4</td>\n",
              "    </tr>\n",
              "    <tr>\n",
              "      <th>2184</th>\n",
              "      <td>11935.0</td>\n",
              "      <td>1</td>\n",
              "      <td>24314.0</td>\n",
              "      <td>2</td>\n",
              "      <td>2004-10-01</td>\n",
              "      <td>10</td>\n",
              "      <td>1</td>\n",
              "      <td>2004</td>\n",
              "      <td>4</td>\n",
              "      <td>4</td>\n",
              "    </tr>\n",
              "    <tr>\n",
              "      <th>2185</th>\n",
              "      <td>11692.0</td>\n",
              "      <td>1</td>\n",
              "      <td>36006.0</td>\n",
              "      <td>3</td>\n",
              "      <td>2004-10-01</td>\n",
              "      <td>10</td>\n",
              "      <td>1</td>\n",
              "      <td>2004</td>\n",
              "      <td>4</td>\n",
              "      <td>4</td>\n",
              "    </tr>\n",
              "    <tr>\n",
              "      <th>2186</th>\n",
              "      <td>11597.0</td>\n",
              "      <td>1</td>\n",
              "      <td>47603.0</td>\n",
              "      <td>4</td>\n",
              "      <td>2004-10-01</td>\n",
              "      <td>10</td>\n",
              "      <td>1</td>\n",
              "      <td>2004</td>\n",
              "      <td>4</td>\n",
              "      <td>4</td>\n",
              "    </tr>\n",
              "    <tr>\n",
              "      <th>2187</th>\n",
              "      <td>11681.0</td>\n",
              "      <td>1</td>\n",
              "      <td>59284.0</td>\n",
              "      <td>5</td>\n",
              "      <td>2004-10-01</td>\n",
              "      <td>10</td>\n",
              "      <td>1</td>\n",
              "      <td>2004</td>\n",
              "      <td>4</td>\n",
              "      <td>4</td>\n",
              "    </tr>\n",
              "    <tr>\n",
              "      <th>...</th>\n",
              "      <td>...</td>\n",
              "      <td>...</td>\n",
              "      <td>...</td>\n",
              "      <td>...</td>\n",
              "      <td>...</td>\n",
              "      <td>...</td>\n",
              "      <td>...</td>\n",
              "      <td>...</td>\n",
              "      <td>...</td>\n",
              "      <td>...</td>\n",
              "    </tr>\n",
              "    <tr>\n",
              "      <th>49712</th>\n",
              "      <td>11585.0</td>\n",
              "      <td>9</td>\n",
              "      <td>683920747.0</td>\n",
              "      <td>20</td>\n",
              "      <td>2010-12-31</td>\n",
              "      <td>12</td>\n",
              "      <td>31</td>\n",
              "      <td>2010</td>\n",
              "      <td>4</td>\n",
              "      <td>1</td>\n",
              "    </tr>\n",
              "    <tr>\n",
              "      <th>49713</th>\n",
              "      <td>11243.0</td>\n",
              "      <td>9</td>\n",
              "      <td>683931990.0</td>\n",
              "      <td>21</td>\n",
              "      <td>2010-12-31</td>\n",
              "      <td>12</td>\n",
              "      <td>31</td>\n",
              "      <td>2010</td>\n",
              "      <td>4</td>\n",
              "      <td>1</td>\n",
              "    </tr>\n",
              "    <tr>\n",
              "      <th>49714</th>\n",
              "      <td>10825.0</td>\n",
              "      <td>9</td>\n",
              "      <td>683942815.0</td>\n",
              "      <td>22</td>\n",
              "      <td>2010-12-31</td>\n",
              "      <td>12</td>\n",
              "      <td>31</td>\n",
              "      <td>2010</td>\n",
              "      <td>4</td>\n",
              "      <td>1</td>\n",
              "    </tr>\n",
              "    <tr>\n",
              "      <th>49715</th>\n",
              "      <td>10511.0</td>\n",
              "      <td>9</td>\n",
              "      <td>683953326.0</td>\n",
              "      <td>23</td>\n",
              "      <td>2010-12-31</td>\n",
              "      <td>12</td>\n",
              "      <td>31</td>\n",
              "      <td>2010</td>\n",
              "      <td>4</td>\n",
              "      <td>1</td>\n",
              "    </tr>\n",
              "    <tr>\n",
              "      <th>49716</th>\n",
              "      <td>10042.0</td>\n",
              "      <td>9</td>\n",
              "      <td>683963368.0</td>\n",
              "      <td>0</td>\n",
              "      <td>2011-01-01</td>\n",
              "      <td>1</td>\n",
              "      <td>1</td>\n",
              "      <td>2011</td>\n",
              "      <td>5</td>\n",
              "      <td>1</td>\n",
              "    </tr>\n",
              "  </tbody>\n",
              "</table>\n",
              "<p>768699 rows × 10 columns</p>\n",
              "</div>"
            ],
            "text/plain": [
              "       consumption_value  account_number  ...  weekday  season\n",
              "2183             12379.0               1  ...        4       4\n",
              "2184             11935.0               1  ...        4       4\n",
              "2185             11692.0               1  ...        4       4\n",
              "2186             11597.0               1  ...        4       4\n",
              "2187             11681.0               1  ...        4       4\n",
              "...                  ...             ...  ...      ...     ...\n",
              "49712            11585.0               9  ...        4       1\n",
              "49713            11243.0               9  ...        4       1\n",
              "49714            10825.0               9  ...        4       1\n",
              "49715            10511.0               9  ...        4       1\n",
              "49716            10042.0               9  ...        5       1\n",
              "\n",
              "[768699 rows x 10 columns]"
            ]
          },
          "metadata": {
            "tags": []
          },
          "execution_count": 333
        }
      ]
    },
    {
      "cell_type": "code",
      "metadata": {
        "id": "fxMPVg7nI_D7",
        "colab": {
          "base_uri": "https://localhost:8080/",
          "height": 379
        },
        "outputId": "bc5947ae-ff85-4a2c-816b-d3ec1854c64d"
      },
      "source": [
        "#dropping the redundant column\n",
        "df=df.drop([\"consumptionDate\"],axis=1)\n",
        "df.head(10)"
      ],
      "execution_count": 334,
      "outputs": [
        {
          "output_type": "execute_result",
          "data": {
            "text/html": [
              "<div>\n",
              "<style scoped>\n",
              "    .dataframe tbody tr th:only-of-type {\n",
              "        vertical-align: middle;\n",
              "    }\n",
              "\n",
              "    .dataframe tbody tr th {\n",
              "        vertical-align: top;\n",
              "    }\n",
              "\n",
              "    .dataframe thead th {\n",
              "        text-align: right;\n",
              "    }\n",
              "</style>\n",
              "<table border=\"1\" class=\"dataframe\">\n",
              "  <thead>\n",
              "    <tr style=\"text-align: right;\">\n",
              "      <th></th>\n",
              "      <th>consumption_value</th>\n",
              "      <th>account_number</th>\n",
              "      <th>meter_reading</th>\n",
              "      <th>consumptionTime</th>\n",
              "      <th>consumptionMonth</th>\n",
              "      <th>consumptionDay</th>\n",
              "      <th>consumptionYear</th>\n",
              "      <th>weekday</th>\n",
              "      <th>season</th>\n",
              "    </tr>\n",
              "  </thead>\n",
              "  <tbody>\n",
              "    <tr>\n",
              "      <th>2183</th>\n",
              "      <td>12379.0</td>\n",
              "      <td>1</td>\n",
              "      <td>12379.0</td>\n",
              "      <td>1</td>\n",
              "      <td>10</td>\n",
              "      <td>1</td>\n",
              "      <td>2004</td>\n",
              "      <td>4</td>\n",
              "      <td>4</td>\n",
              "    </tr>\n",
              "    <tr>\n",
              "      <th>2184</th>\n",
              "      <td>11935.0</td>\n",
              "      <td>1</td>\n",
              "      <td>24314.0</td>\n",
              "      <td>2</td>\n",
              "      <td>10</td>\n",
              "      <td>1</td>\n",
              "      <td>2004</td>\n",
              "      <td>4</td>\n",
              "      <td>4</td>\n",
              "    </tr>\n",
              "    <tr>\n",
              "      <th>2185</th>\n",
              "      <td>11692.0</td>\n",
              "      <td>1</td>\n",
              "      <td>36006.0</td>\n",
              "      <td>3</td>\n",
              "      <td>10</td>\n",
              "      <td>1</td>\n",
              "      <td>2004</td>\n",
              "      <td>4</td>\n",
              "      <td>4</td>\n",
              "    </tr>\n",
              "    <tr>\n",
              "      <th>2186</th>\n",
              "      <td>11597.0</td>\n",
              "      <td>1</td>\n",
              "      <td>47603.0</td>\n",
              "      <td>4</td>\n",
              "      <td>10</td>\n",
              "      <td>1</td>\n",
              "      <td>2004</td>\n",
              "      <td>4</td>\n",
              "      <td>4</td>\n",
              "    </tr>\n",
              "    <tr>\n",
              "      <th>2187</th>\n",
              "      <td>11681.0</td>\n",
              "      <td>1</td>\n",
              "      <td>59284.0</td>\n",
              "      <td>5</td>\n",
              "      <td>10</td>\n",
              "      <td>1</td>\n",
              "      <td>2004</td>\n",
              "      <td>4</td>\n",
              "      <td>4</td>\n",
              "    </tr>\n",
              "    <tr>\n",
              "      <th>2188</th>\n",
              "      <td>12280.0</td>\n",
              "      <td>1</td>\n",
              "      <td>71564.0</td>\n",
              "      <td>6</td>\n",
              "      <td>10</td>\n",
              "      <td>1</td>\n",
              "      <td>2004</td>\n",
              "      <td>4</td>\n",
              "      <td>4</td>\n",
              "    </tr>\n",
              "    <tr>\n",
              "      <th>2189</th>\n",
              "      <td>13692.0</td>\n",
              "      <td>1</td>\n",
              "      <td>85256.0</td>\n",
              "      <td>7</td>\n",
              "      <td>10</td>\n",
              "      <td>1</td>\n",
              "      <td>2004</td>\n",
              "      <td>4</td>\n",
              "      <td>4</td>\n",
              "    </tr>\n",
              "    <tr>\n",
              "      <th>2190</th>\n",
              "      <td>14618.0</td>\n",
              "      <td>1</td>\n",
              "      <td>99874.0</td>\n",
              "      <td>8</td>\n",
              "      <td>10</td>\n",
              "      <td>1</td>\n",
              "      <td>2004</td>\n",
              "      <td>4</td>\n",
              "      <td>4</td>\n",
              "    </tr>\n",
              "    <tr>\n",
              "      <th>2191</th>\n",
              "      <td>14903.0</td>\n",
              "      <td>1</td>\n",
              "      <td>114777.0</td>\n",
              "      <td>9</td>\n",
              "      <td>10</td>\n",
              "      <td>1</td>\n",
              "      <td>2004</td>\n",
              "      <td>4</td>\n",
              "      <td>4</td>\n",
              "    </tr>\n",
              "    <tr>\n",
              "      <th>2192</th>\n",
              "      <td>15118.0</td>\n",
              "      <td>1</td>\n",
              "      <td>129895.0</td>\n",
              "      <td>10</td>\n",
              "      <td>10</td>\n",
              "      <td>1</td>\n",
              "      <td>2004</td>\n",
              "      <td>4</td>\n",
              "      <td>4</td>\n",
              "    </tr>\n",
              "  </tbody>\n",
              "</table>\n",
              "</div>"
            ],
            "text/plain": [
              "      consumption_value  account_number  ...  weekday  season\n",
              "2183            12379.0               1  ...        4       4\n",
              "2184            11935.0               1  ...        4       4\n",
              "2185            11692.0               1  ...        4       4\n",
              "2186            11597.0               1  ...        4       4\n",
              "2187            11681.0               1  ...        4       4\n",
              "2188            12280.0               1  ...        4       4\n",
              "2189            13692.0               1  ...        4       4\n",
              "2190            14618.0               1  ...        4       4\n",
              "2191            14903.0               1  ...        4       4\n",
              "2192            15118.0               1  ...        4       4\n",
              "\n",
              "[10 rows x 9 columns]"
            ]
          },
          "metadata": {
            "tags": []
          },
          "execution_count": 334
        }
      ]
    },
    {
      "cell_type": "markdown",
      "metadata": {
        "id": "l80SUbvTEz1M"
      },
      "source": [
        "Consumption values vs. Time, day, month, season, day of week, and year."
      ]
    },
    {
      "cell_type": "code",
      "metadata": {
        "id": "RjBpdm2AEzlu",
        "colab": {
          "base_uri": "https://localhost:8080/",
          "height": 1000
        },
        "outputId": "ddc04ee3-9a7c-45eb-8b3a-e6efc6bbd8fb"
      },
      "source": [
        "\n",
        "plt.figure(figsize=(30, 5))\n",
        "\n",
        "dfTime = pd.DataFrame(df.groupby(['consumptionTime'])['consumption_value'].mean().sort_values(ascending = False))\n",
        "dfTime.plot.bar()\n",
        "plt.title('Consumption Time(hour) vs Average Consumption Value')\n",
        "plt.show()\n",
        "\n",
        "dfDay = pd.DataFrame(df.groupby(['consumptionDay'])['consumption_value'].mean().sort_values(ascending = False))\n",
        "dfDay.plot.bar()\n",
        "plt.title('Consumption Day vs Average Consumption Value')\n",
        "plt.show()\n",
        "\n",
        "dfMonth = pd.DataFrame(df.groupby(['consumptionMonth'])['consumption_value'].mean().sort_values(ascending = False))\n",
        "dfMonth.plot.bar()\n",
        "plt.title('Consumption Month vs Average Consumption Value')\n",
        "plt.show()\n",
        "\n",
        "dfSeason = pd.DataFrame(df.groupby(['season'])['consumption_value'].mean().sort_values(ascending = False))\n",
        "dfSeason.plot.bar()\n",
        "plt.title('Consumption Season vs Average Consumption Value')\n",
        "plt.show()\n",
        "\n",
        "\n",
        "dfWeekDay = pd.DataFrame(df.groupby(['weekday'])['consumption_value'].mean().sort_values(ascending = False))\n",
        "dfWeekDay.plot.bar()\n",
        "plt.title('Consumption weekday vs Average Consumption Value')\n",
        "plt.show()\n",
        "\n",
        "dfYear = pd.DataFrame(df.groupby(['consumptionYear'])['consumption_value'].mean().sort_values(ascending = False))\n",
        "dfYear.plot.bar()\n",
        "plt.title('Consumption Year vs Average Consumption Value')\n",
        "plt.show()\n",
        "\n"
      ],
      "execution_count": 335,
      "outputs": [
        {
          "output_type": "display_data",
          "data": {
            "text/plain": [
              "<Figure size 2160x360 with 0 Axes>"
            ]
          },
          "metadata": {
            "tags": []
          }
        },
        {
          "output_type": "display_data",
          "data": {
            "image/png": "[encoded data removed]",
            "text/plain": [
              "<Figure size 432x288 with 1 Axes>"
            ]
          },
          "metadata": {
            "tags": [],
            "needs_background": "light"
          }
        },
        {
          "output_type": "display_data",
          "data": {
            "image/png": "[encoded data removed]",
            "text/plain": [
              "<Figure size 432x288 with 1 Axes>"
            ]
          },
          "metadata": {
            "tags": [],
            "needs_background": "light"
          }
        },
        {
          "output_type": "display_data",
          "data": {
            "image/png": "[encoded data removed]",
            "text/plain": [
              "<Figure size 432x288 with 1 Axes>"
            ]
          },
          "metadata": {
            "tags": [],
            "needs_background": "light"
          }
        },
        {
          "output_type": "display_data",
          "data": {
            "image/png": "[encoded data removed]",
            "text/plain": [
              "<Figure size 432x288 with 1 Axes>"
            ]
          },
          "metadata": {
            "tags": [],
            "needs_background": "light"
          }
        },
        {
          "output_type": "display_data",
          "data": {
            "image/png": "[encoded data removed]",
            "text/plain": [
              "<Figure size 432x288 with 1 Axes>"
            ]
          },
          "metadata": {
            "tags": [],
            "needs_background": "light"
          }
        },
        {
          "output_type": "display_data",
          "data": {
            "image/png": "[encoded data removed]",
            "text/plain": [
              "<Figure size 432x288 with 1 Axes>"
            ]
          },
          "metadata": {
            "tags": [],
            "needs_background": "light"
          }
        }
      ]
    },
    {
      "cell_type": "markdown",
      "metadata": {
        "id": "JmiA8dyVSdqu"
      },
      "source": [
        "The figure demonestrates "
      ]
    },
    {
      "cell_type": "code",
      "metadata": {
        "id": "WtUKD1qJsCYV",
        "colab": {
          "base_uri": "https://localhost:8080/",
          "height": 293
        },
        "outputId": "1f2f74bd-2448-4987-bc2b-d0e806524998"
      },
      "source": [
        "dfAccount= pd.DataFrame(df.groupby(['account_number'])['consumption_value'].mean().sort_values(ascending = False))\n",
        "dfAccount.plot.bar()\n",
        "plt.title('Account number vs Average Consumption Value')\n",
        "plt.show()"
      ],
      "execution_count": 336,
      "outputs": [
        {
          "output_type": "display_data",
          "data": {
            "image/png": "[encoded data removed]",
            "text/plain": [
              "<Figure size 432x288 with 1 Axes>"
            ]
          },
          "metadata": {
            "tags": [],
            "needs_background": "light"
          }
        }
      ]
    },
    {
      "cell_type": "markdown",
      "metadata": {
        "id": "6MEXnYhSRi5C"
      },
      "source": [
        "As power consumption varies from account to another, we either find the sum to all of the energy consumption for all accounts and make a single model, or each account to has it's own model, but a solution in between woud be clustering the accounts and each cluster has it's own model. "
      ]
    },
    {
      "cell_type": "code",
      "metadata": {
        "id": "wrAiMIcucb0h",
        "colab": {
          "base_uri": "https://localhost:8080/"
        },
        "outputId": "4fa4c9c6-2d4d-4cb5-ba41-0add0ca8eef4"
      },
      "source": [
        "!pip install kneed"
      ],
      "execution_count": 337,
      "outputs": [
        {
          "output_type": "stream",
          "text": [
            "Requirement already satisfied: kneed in /usr/local/lib/python3.6/dist-packages (0.7.0)\n",
            "Requirement already satisfied: scipy in /usr/local/lib/python3.6/dist-packages (from kneed) (1.4.1)\n",
            "Requirement already satisfied: matplotlib in /usr/local/lib/python3.6/dist-packages (from kneed) (3.2.2)\n",
            "Requirement already satisfied: numpy>=1.14.2 in /usr/local/lib/python3.6/dist-packages (from kneed) (1.19.5)\n",
            "Requirement already satisfied: cycler>=0.10 in /usr/local/lib/python3.6/dist-packages (from matplotlib->kneed) (0.10.0)\n",
            "Requirement already satisfied: kiwisolver>=1.0.1 in /usr/local/lib/python3.6/dist-packages (from matplotlib->kneed) (1.3.1)\n",
            "Requirement already satisfied: pyparsing!=2.0.4,!=2.1.2,!=2.1.6,>=2.0.1 in /usr/local/lib/python3.6/dist-packages (from matplotlib->kneed) (2.4.7)\n",
            "Requirement already satisfied: python-dateutil>=2.1 in /usr/local/lib/python3.6/dist-packages (from matplotlib->kneed) (2.8.1)\n",
            "Requirement already satisfied: six in /usr/local/lib/python3.6/dist-packages (from cycler>=0.10->matplotlib->kneed) (1.15.0)\n"
          ],
          "name": "stdout"
        }
      ]
    },
    {
      "cell_type": "code",
      "metadata": {
        "id": "ZnxX4ZXyWrpg"
      },
      "source": [
        "test_df = df.loc[df['consumptionYear'] >= 2017] "
      ],
      "execution_count": 338,
      "outputs": []
    },
    {
      "cell_type": "code",
      "metadata": {
        "id": "4hTfbnd2ueAd"
      },
      "source": [
        "#dropping consumption data of 2004 year\n",
        "# Get names of indexes for which column Age has value 30\n",
        "indexNames = df[ (df['consumptionYear'] <= 2005) | (df['consumptionYear'] >= 2017) ].index\n",
        "\n",
        "# Delete these row indexes from dataFrame\n",
        "dfCleaned=df.drop(indexNames , inplace=False)\n",
        "\n"
      ],
      "execution_count": 339,
      "outputs": []
    },
    {
      "cell_type": "code",
      "metadata": {
        "id": "FjiECVHNVyIe",
        "colab": {
          "base_uri": "https://localhost:8080/",
          "height": 419
        },
        "outputId": "17f696dc-68e2-4a2c-f039-5f10436856de"
      },
      "source": [
        "dfCleaned"
      ],
      "execution_count": 340,
      "outputs": [
        {
          "output_type": "execute_result",
          "data": {
            "text/html": [
              "<div>\n",
              "<style scoped>\n",
              "    .dataframe tbody tr th:only-of-type {\n",
              "        vertical-align: middle;\n",
              "    }\n",
              "\n",
              "    .dataframe tbody tr th {\n",
              "        vertical-align: top;\n",
              "    }\n",
              "\n",
              "    .dataframe thead th {\n",
              "        text-align: right;\n",
              "    }\n",
              "</style>\n",
              "<table border=\"1\" class=\"dataframe\">\n",
              "  <thead>\n",
              "    <tr style=\"text-align: right;\">\n",
              "      <th></th>\n",
              "      <th>consumption_value</th>\n",
              "      <th>account_number</th>\n",
              "      <th>meter_reading</th>\n",
              "      <th>consumptionTime</th>\n",
              "      <th>consumptionMonth</th>\n",
              "      <th>consumptionDay</th>\n",
              "      <th>consumptionYear</th>\n",
              "      <th>weekday</th>\n",
              "      <th>season</th>\n",
              "    </tr>\n",
              "  </thead>\n",
              "  <tbody>\n",
              "    <tr>\n",
              "      <th>19699</th>\n",
              "      <td>14287.0</td>\n",
              "      <td>1</td>\n",
              "      <td>172261620.0</td>\n",
              "      <td>1</td>\n",
              "      <td>1</td>\n",
              "      <td>1</td>\n",
              "      <td>2006</td>\n",
              "      <td>6</td>\n",
              "      <td>1</td>\n",
              "    </tr>\n",
              "    <tr>\n",
              "      <th>19700</th>\n",
              "      <td>13932.0</td>\n",
              "      <td>1</td>\n",
              "      <td>172275552.0</td>\n",
              "      <td>2</td>\n",
              "      <td>1</td>\n",
              "      <td>1</td>\n",
              "      <td>2006</td>\n",
              "      <td>6</td>\n",
              "      <td>1</td>\n",
              "    </tr>\n",
              "    <tr>\n",
              "      <th>19701</th>\n",
              "      <td>13713.0</td>\n",
              "      <td>1</td>\n",
              "      <td>172289265.0</td>\n",
              "      <td>3</td>\n",
              "      <td>1</td>\n",
              "      <td>1</td>\n",
              "      <td>2006</td>\n",
              "      <td>6</td>\n",
              "      <td>1</td>\n",
              "    </tr>\n",
              "    <tr>\n",
              "      <th>19702</th>\n",
              "      <td>13656.0</td>\n",
              "      <td>1</td>\n",
              "      <td>172302921.0</td>\n",
              "      <td>4</td>\n",
              "      <td>1</td>\n",
              "      <td>1</td>\n",
              "      <td>2006</td>\n",
              "      <td>6</td>\n",
              "      <td>1</td>\n",
              "    </tr>\n",
              "    <tr>\n",
              "      <th>19703</th>\n",
              "      <td>13635.0</td>\n",
              "      <td>1</td>\n",
              "      <td>172316556.0</td>\n",
              "      <td>5</td>\n",
              "      <td>1</td>\n",
              "      <td>1</td>\n",
              "      <td>2006</td>\n",
              "      <td>6</td>\n",
              "      <td>1</td>\n",
              "    </tr>\n",
              "    <tr>\n",
              "      <th>...</th>\n",
              "      <td>...</td>\n",
              "      <td>...</td>\n",
              "      <td>...</td>\n",
              "      <td>...</td>\n",
              "      <td>...</td>\n",
              "      <td>...</td>\n",
              "      <td>...</td>\n",
              "      <td>...</td>\n",
              "      <td>...</td>\n",
              "    </tr>\n",
              "    <tr>\n",
              "      <th>23414</th>\n",
              "      <td>12895.0</td>\n",
              "      <td>9</td>\n",
              "      <td>377945852.0</td>\n",
              "      <td>20</td>\n",
              "      <td>12</td>\n",
              "      <td>31</td>\n",
              "      <td>2007</td>\n",
              "      <td>0</td>\n",
              "      <td>1</td>\n",
              "    </tr>\n",
              "    <tr>\n",
              "      <th>23415</th>\n",
              "      <td>12495.0</td>\n",
              "      <td>9</td>\n",
              "      <td>377958347.0</td>\n",
              "      <td>21</td>\n",
              "      <td>12</td>\n",
              "      <td>31</td>\n",
              "      <td>2007</td>\n",
              "      <td>0</td>\n",
              "      <td>1</td>\n",
              "    </tr>\n",
              "    <tr>\n",
              "      <th>23416</th>\n",
              "      <td>12075.0</td>\n",
              "      <td>9</td>\n",
              "      <td>377970422.0</td>\n",
              "      <td>22</td>\n",
              "      <td>12</td>\n",
              "      <td>31</td>\n",
              "      <td>2007</td>\n",
              "      <td>0</td>\n",
              "      <td>1</td>\n",
              "    </tr>\n",
              "    <tr>\n",
              "      <th>23417</th>\n",
              "      <td>11678.0</td>\n",
              "      <td>9</td>\n",
              "      <td>377982100.0</td>\n",
              "      <td>23</td>\n",
              "      <td>12</td>\n",
              "      <td>31</td>\n",
              "      <td>2007</td>\n",
              "      <td>0</td>\n",
              "      <td>1</td>\n",
              "    </tr>\n",
              "    <tr>\n",
              "      <th>23418</th>\n",
              "      <td>11198.0</td>\n",
              "      <td>9</td>\n",
              "      <td>377993298.0</td>\n",
              "      <td>0</td>\n",
              "      <td>1</td>\n",
              "      <td>1</td>\n",
              "      <td>2008</td>\n",
              "      <td>1</td>\n",
              "      <td>1</td>\n",
              "    </tr>\n",
              "  </tbody>\n",
              "</table>\n",
              "<p>294381 rows × 9 columns</p>\n",
              "</div>"
            ],
            "text/plain": [
              "       consumption_value  account_number  ...  weekday  season\n",
              "19699            14287.0               1  ...        6       1\n",
              "19700            13932.0               1  ...        6       1\n",
              "19701            13713.0               1  ...        6       1\n",
              "19702            13656.0               1  ...        6       1\n",
              "19703            13635.0               1  ...        6       1\n",
              "...                  ...             ...  ...      ...     ...\n",
              "23414            12895.0               9  ...        0       1\n",
              "23415            12495.0               9  ...        0       1\n",
              "23416            12075.0               9  ...        0       1\n",
              "23417            11678.0               9  ...        0       1\n",
              "23418            11198.0               9  ...        1       1\n",
              "\n",
              "[294381 rows x 9 columns]"
            ]
          },
          "metadata": {
            "tags": []
          },
          "execution_count": 340
        }
      ]
    },
    {
      "cell_type": "code",
      "metadata": {
        "id": "jfqFp1LcUtXv",
        "colab": {
          "base_uri": "https://localhost:8080/",
          "height": 419
        },
        "outputId": "7ee26e75-0420-438b-f953-a3ae8b8c2462"
      },
      "source": [
        "test_df"
      ],
      "execution_count": 341,
      "outputs": [
        {
          "output_type": "execute_result",
          "data": {
            "text/html": [
              "<div>\n",
              "<style scoped>\n",
              "    .dataframe tbody tr th:only-of-type {\n",
              "        vertical-align: middle;\n",
              "    }\n",
              "\n",
              "    .dataframe tbody tr th {\n",
              "        vertical-align: top;\n",
              "    }\n",
              "\n",
              "    .dataframe thead th {\n",
              "        text-align: right;\n",
              "    }\n",
              "</style>\n",
              "<table border=\"1\" class=\"dataframe\">\n",
              "  <thead>\n",
              "    <tr style=\"text-align: right;\">\n",
              "      <th></th>\n",
              "      <th>consumption_value</th>\n",
              "      <th>account_number</th>\n",
              "      <th>meter_reading</th>\n",
              "      <th>consumptionTime</th>\n",
              "      <th>consumptionMonth</th>\n",
              "      <th>consumptionDay</th>\n",
              "      <th>consumptionYear</th>\n",
              "      <th>weekday</th>\n",
              "      <th>season</th>\n",
              "    </tr>\n",
              "  </thead>\n",
              "  <tbody>\n",
              "    <tr>\n",
              "      <th>98617</th>\n",
              "      <td>13240.0</td>\n",
              "      <td>1</td>\n",
              "      <td>1.674276e+09</td>\n",
              "      <td>0</td>\n",
              "      <td>1</td>\n",
              "      <td>1</td>\n",
              "      <td>2017</td>\n",
              "      <td>6</td>\n",
              "      <td>1</td>\n",
              "    </tr>\n",
              "    <tr>\n",
              "      <th>116114</th>\n",
              "      <td>12876.0</td>\n",
              "      <td>1</td>\n",
              "      <td>1.674289e+09</td>\n",
              "      <td>1</td>\n",
              "      <td>1</td>\n",
              "      <td>1</td>\n",
              "      <td>2017</td>\n",
              "      <td>6</td>\n",
              "      <td>1</td>\n",
              "    </tr>\n",
              "    <tr>\n",
              "      <th>116115</th>\n",
              "      <td>12591.0</td>\n",
              "      <td>1</td>\n",
              "      <td>1.674301e+09</td>\n",
              "      <td>2</td>\n",
              "      <td>1</td>\n",
              "      <td>1</td>\n",
              "      <td>2017</td>\n",
              "      <td>6</td>\n",
              "      <td>1</td>\n",
              "    </tr>\n",
              "    <tr>\n",
              "      <th>116116</th>\n",
              "      <td>12487.0</td>\n",
              "      <td>1</td>\n",
              "      <td>1.674314e+09</td>\n",
              "      <td>3</td>\n",
              "      <td>1</td>\n",
              "      <td>1</td>\n",
              "      <td>2017</td>\n",
              "      <td>6</td>\n",
              "      <td>1</td>\n",
              "    </tr>\n",
              "    <tr>\n",
              "      <th>116117</th>\n",
              "      <td>12369.0</td>\n",
              "      <td>1</td>\n",
              "      <td>1.674326e+09</td>\n",
              "      <td>4</td>\n",
              "      <td>1</td>\n",
              "      <td>1</td>\n",
              "      <td>2017</td>\n",
              "      <td>6</td>\n",
              "      <td>1</td>\n",
              "    </tr>\n",
              "    <tr>\n",
              "      <th>...</th>\n",
              "      <td>...</td>\n",
              "      <td>...</td>\n",
              "      <td>...</td>\n",
              "      <td>...</td>\n",
              "      <td>...</td>\n",
              "      <td>...</td>\n",
              "      <td>...</td>\n",
              "      <td>...</td>\n",
              "      <td>...</td>\n",
              "    </tr>\n",
              "    <tr>\n",
              "      <th>113952</th>\n",
              "      <td>1966.0</td>\n",
              "      <td>8</td>\n",
              "      <td>1.975051e+08</td>\n",
              "      <td>20</td>\n",
              "      <td>8</td>\n",
              "      <td>2</td>\n",
              "      <td>2018</td>\n",
              "      <td>3</td>\n",
              "      <td>3</td>\n",
              "    </tr>\n",
              "    <tr>\n",
              "      <th>113953</th>\n",
              "      <td>1944.0</td>\n",
              "      <td>8</td>\n",
              "      <td>1.975071e+08</td>\n",
              "      <td>21</td>\n",
              "      <td>8</td>\n",
              "      <td>2</td>\n",
              "      <td>2018</td>\n",
              "      <td>3</td>\n",
              "      <td>3</td>\n",
              "    </tr>\n",
              "    <tr>\n",
              "      <th>113954</th>\n",
              "      <td>1901.0</td>\n",
              "      <td>8</td>\n",
              "      <td>1.975090e+08</td>\n",
              "      <td>22</td>\n",
              "      <td>8</td>\n",
              "      <td>2</td>\n",
              "      <td>2018</td>\n",
              "      <td>3</td>\n",
              "      <td>3</td>\n",
              "    </tr>\n",
              "    <tr>\n",
              "      <th>113955</th>\n",
              "      <td>1789.0</td>\n",
              "      <td>8</td>\n",
              "      <td>1.975108e+08</td>\n",
              "      <td>23</td>\n",
              "      <td>8</td>\n",
              "      <td>2</td>\n",
              "      <td>2018</td>\n",
              "      <td>3</td>\n",
              "      <td>3</td>\n",
              "    </tr>\n",
              "    <tr>\n",
              "      <th>113956</th>\n",
              "      <td>1656.0</td>\n",
              "      <td>8</td>\n",
              "      <td>1.975124e+08</td>\n",
              "      <td>0</td>\n",
              "      <td>8</td>\n",
              "      <td>3</td>\n",
              "      <td>2018</td>\n",
              "      <td>4</td>\n",
              "      <td>3</td>\n",
              "    </tr>\n",
              "  </tbody>\n",
              "</table>\n",
              "<p>111168 rows × 9 columns</p>\n",
              "</div>"
            ],
            "text/plain": [
              "        consumption_value  account_number  ...  weekday  season\n",
              "98617             13240.0               1  ...        6       1\n",
              "116114            12876.0               1  ...        6       1\n",
              "116115            12591.0               1  ...        6       1\n",
              "116116            12487.0               1  ...        6       1\n",
              "116117            12369.0               1  ...        6       1\n",
              "...                   ...             ...  ...      ...     ...\n",
              "113952             1966.0               8  ...        3       3\n",
              "113953             1944.0               8  ...        3       3\n",
              "113954             1901.0               8  ...        3       3\n",
              "113955             1789.0               8  ...        3       3\n",
              "113956             1656.0               8  ...        4       3\n",
              "\n",
              "[111168 rows x 9 columns]"
            ]
          },
          "metadata": {
            "tags": []
          },
          "execution_count": 341
        }
      ]
    },
    {
      "cell_type": "code",
      "metadata": {
        "id": "4EkHoN_5Zupm"
      },
      "source": [
        "#import required librararies\n",
        "from kneed import KneeLocator\n",
        "from sklearn.cluster import KMeans\n",
        "from sklearn.preprocessing import StandardScaler"
      ],
      "execution_count": 342,
      "outputs": []
    },
    {
      "cell_type": "code",
      "metadata": {
        "id": "9TwyYYlxbx9x"
      },
      "source": [
        "\n",
        "#scaling the consumption value\n",
        "float_array = dfCleaned['consumption_value'].values.astype(float)\n",
        "float_array=float_array.reshape(-1, 1)\n",
        "scaler = StandardScaler()\n",
        "scaled_array =  scaler.fit_transform(float_array)\n"
      ],
      "execution_count": 343,
      "outputs": []
    },
    {
      "cell_type": "code",
      "metadata": {
        "id": "SBDQDtSn5BvC",
        "colab": {
          "base_uri": "https://localhost:8080/",
          "height": 419
        },
        "outputId": "50cad434-c57f-4120-c616-7249dccebfee"
      },
      "source": [
        "df_normalized = pd.DataFrame(scaled_array)\n",
        "df_normalized"
      ],
      "execution_count": 344,
      "outputs": [
        {
          "output_type": "execute_result",
          "data": {
            "text/html": [
              "<div>\n",
              "<style scoped>\n",
              "    .dataframe tbody tr th:only-of-type {\n",
              "        vertical-align: middle;\n",
              "    }\n",
              "\n",
              "    .dataframe tbody tr th {\n",
              "        vertical-align: top;\n",
              "    }\n",
              "\n",
              "    .dataframe thead th {\n",
              "        text-align: right;\n",
              "    }\n",
              "</style>\n",
              "<table border=\"1\" class=\"dataframe\">\n",
              "  <thead>\n",
              "    <tr style=\"text-align: right;\">\n",
              "      <th></th>\n",
              "      <th>0</th>\n",
              "    </tr>\n",
              "  </thead>\n",
              "  <tbody>\n",
              "    <tr>\n",
              "      <th>0</th>\n",
              "      <td>1.188922</td>\n",
              "    </tr>\n",
              "    <tr>\n",
              "      <th>1</th>\n",
              "      <td>1.127311</td>\n",
              "    </tr>\n",
              "    <tr>\n",
              "      <th>2</th>\n",
              "      <td>1.089303</td>\n",
              "    </tr>\n",
              "    <tr>\n",
              "      <th>3</th>\n",
              "      <td>1.079411</td>\n",
              "    </tr>\n",
              "    <tr>\n",
              "      <th>4</th>\n",
              "      <td>1.075766</td>\n",
              "    </tr>\n",
              "    <tr>\n",
              "      <th>...</th>\n",
              "      <td>...</td>\n",
              "    </tr>\n",
              "    <tr>\n",
              "      <th>294376</th>\n",
              "      <td>0.947338</td>\n",
              "    </tr>\n",
              "    <tr>\n",
              "      <th>294377</th>\n",
              "      <td>0.877917</td>\n",
              "    </tr>\n",
              "    <tr>\n",
              "      <th>294378</th>\n",
              "      <td>0.805026</td>\n",
              "    </tr>\n",
              "    <tr>\n",
              "      <th>294379</th>\n",
              "      <td>0.736126</td>\n",
              "    </tr>\n",
              "    <tr>\n",
              "      <th>294380</th>\n",
              "      <td>0.652821</td>\n",
              "    </tr>\n",
              "  </tbody>\n",
              "</table>\n",
              "<p>294381 rows × 1 columns</p>\n",
              "</div>"
            ],
            "text/plain": [
              "               0\n",
              "0       1.188922\n",
              "1       1.127311\n",
              "2       1.089303\n",
              "3       1.079411\n",
              "4       1.075766\n",
              "...          ...\n",
              "294376  0.947338\n",
              "294377  0.877917\n",
              "294378  0.805026\n",
              "294379  0.736126\n",
              "294380  0.652821\n",
              "\n",
              "[294381 rows x 1 columns]"
            ]
          },
          "metadata": {
            "tags": []
          },
          "execution_count": 344
        }
      ]
    },
    {
      "cell_type": "code",
      "metadata": {
        "id": "jfFy0OoB5Rg1"
      },
      "source": [
        "dfScaled=dfCleaned.join(df_normalized)"
      ],
      "execution_count": 345,
      "outputs": []
    },
    {
      "cell_type": "code",
      "metadata": {
        "id": "0EviZ7t-6hl6",
        "colab": {
          "base_uri": "https://localhost:8080/",
          "height": 419
        },
        "outputId": "1acdbf84-3c07-4cd9-871d-af9145a359f6"
      },
      "source": [
        "dfScaled"
      ],
      "execution_count": 346,
      "outputs": [
        {
          "output_type": "execute_result",
          "data": {
            "text/html": [
              "<div>\n",
              "<style scoped>\n",
              "    .dataframe tbody tr th:only-of-type {\n",
              "        vertical-align: middle;\n",
              "    }\n",
              "\n",
              "    .dataframe tbody tr th {\n",
              "        vertical-align: top;\n",
              "    }\n",
              "\n",
              "    .dataframe thead th {\n",
              "        text-align: right;\n",
              "    }\n",
              "</style>\n",
              "<table border=\"1\" class=\"dataframe\">\n",
              "  <thead>\n",
              "    <tr style=\"text-align: right;\">\n",
              "      <th></th>\n",
              "      <th>consumption_value</th>\n",
              "      <th>account_number</th>\n",
              "      <th>meter_reading</th>\n",
              "      <th>consumptionTime</th>\n",
              "      <th>consumptionMonth</th>\n",
              "      <th>consumptionDay</th>\n",
              "      <th>consumptionYear</th>\n",
              "      <th>weekday</th>\n",
              "      <th>season</th>\n",
              "      <th>0</th>\n",
              "    </tr>\n",
              "  </thead>\n",
              "  <tbody>\n",
              "    <tr>\n",
              "      <th>14637</th>\n",
              "      <td>15710.0</td>\n",
              "      <td>1</td>\n",
              "      <td>2.520880e+08</td>\n",
              "      <td>2</td>\n",
              "      <td>7</td>\n",
              "      <td>31</td>\n",
              "      <td>2006</td>\n",
              "      <td>0</td>\n",
              "      <td>3</td>\n",
              "      <td>1.505826</td>\n",
              "    </tr>\n",
              "    <tr>\n",
              "      <th>14637</th>\n",
              "      <td>8563.0</td>\n",
              "      <td>2</td>\n",
              "      <td>1.331314e+08</td>\n",
              "      <td>1</td>\n",
              "      <td>4</td>\n",
              "      <td>30</td>\n",
              "      <td>2012</td>\n",
              "      <td>0</td>\n",
              "      <td>2</td>\n",
              "      <td>1.505826</td>\n",
              "    </tr>\n",
              "    <tr>\n",
              "      <th>14637</th>\n",
              "      <td>2245.0</td>\n",
              "      <td>3</td>\n",
              "      <td>3.371942e+07</td>\n",
              "      <td>2</td>\n",
              "      <td>7</td>\n",
              "      <td>31</td>\n",
              "      <td>2006</td>\n",
              "      <td>0</td>\n",
              "      <td>3</td>\n",
              "      <td>1.505826</td>\n",
              "    </tr>\n",
              "    <tr>\n",
              "      <th>14637</th>\n",
              "      <td>2424.0</td>\n",
              "      <td>4</td>\n",
              "      <td>3.570426e+07</td>\n",
              "      <td>1</td>\n",
              "      <td>5</td>\n",
              "      <td>1</td>\n",
              "      <td>2013</td>\n",
              "      <td>2</td>\n",
              "      <td>2</td>\n",
              "      <td>1.505826</td>\n",
              "    </tr>\n",
              "    <tr>\n",
              "      <th>14637</th>\n",
              "      <td>9259.0</td>\n",
              "      <td>5</td>\n",
              "      <td>2.512913e+08</td>\n",
              "      <td>1</td>\n",
              "      <td>12</td>\n",
              "      <td>31</td>\n",
              "      <td>2007</td>\n",
              "      <td>0</td>\n",
              "      <td>1</td>\n",
              "      <td>1.505826</td>\n",
              "    </tr>\n",
              "    <tr>\n",
              "      <th>...</th>\n",
              "      <td>...</td>\n",
              "      <td>...</td>\n",
              "      <td>...</td>\n",
              "      <td>...</td>\n",
              "      <td>...</td>\n",
              "      <td>...</td>\n",
              "      <td>...</td>\n",
              "      <td>...</td>\n",
              "      <td>...</td>\n",
              "      <td>...</td>\n",
              "    </tr>\n",
              "    <tr>\n",
              "      <th>102292</th>\n",
              "      <td>1279.0</td>\n",
              "      <td>8</td>\n",
              "      <td>1.661181e+08</td>\n",
              "      <td>23</td>\n",
              "      <td>4</td>\n",
              "      <td>30</td>\n",
              "      <td>2016</td>\n",
              "      <td>5</td>\n",
              "      <td>2</td>\n",
              "      <td>-0.895257</td>\n",
              "    </tr>\n",
              "    <tr>\n",
              "      <th>102293</th>\n",
              "      <td>12608.0</td>\n",
              "      <td>1</td>\n",
              "      <td>1.619366e+09</td>\n",
              "      <td>3</td>\n",
              "      <td>7</td>\n",
              "      <td>30</td>\n",
              "      <td>2016</td>\n",
              "      <td>5</td>\n",
              "      <td>3</td>\n",
              "      <td>-0.857770</td>\n",
              "    </tr>\n",
              "    <tr>\n",
              "      <th>102293</th>\n",
              "      <td>1899.0</td>\n",
              "      <td>3</td>\n",
              "      <td>2.116169e+08</td>\n",
              "      <td>1</td>\n",
              "      <td>7</td>\n",
              "      <td>30</td>\n",
              "      <td>2016</td>\n",
              "      <td>5</td>\n",
              "      <td>3</td>\n",
              "      <td>-0.857770</td>\n",
              "    </tr>\n",
              "    <tr>\n",
              "      <th>102293</th>\n",
              "      <td>10369.0</td>\n",
              "      <td>5</td>\n",
              "      <td>1.017536e+09</td>\n",
              "      <td>0</td>\n",
              "      <td>1</td>\n",
              "      <td>2</td>\n",
              "      <td>2016</td>\n",
              "      <td>5</td>\n",
              "      <td>1</td>\n",
              "      <td>-0.857770</td>\n",
              "    </tr>\n",
              "    <tr>\n",
              "      <th>102293</th>\n",
              "      <td>1210.0</td>\n",
              "      <td>8</td>\n",
              "      <td>1.661193e+08</td>\n",
              "      <td>0</td>\n",
              "      <td>5</td>\n",
              "      <td>1</td>\n",
              "      <td>2016</td>\n",
              "      <td>6</td>\n",
              "      <td>2</td>\n",
              "      <td>-0.857770</td>\n",
              "    </tr>\n",
              "  </tbody>\n",
              "</table>\n",
              "<p>294381 rows × 10 columns</p>\n",
              "</div>"
            ],
            "text/plain": [
              "        consumption_value  account_number  ...  season         0\n",
              "14637             15710.0               1  ...       3  1.505826\n",
              "14637              8563.0               2  ...       2  1.505826\n",
              "14637              2245.0               3  ...       3  1.505826\n",
              "14637              2424.0               4  ...       2  1.505826\n",
              "14637              9259.0               5  ...       1  1.505826\n",
              "...                   ...             ...  ...     ...       ...\n",
              "102292             1279.0               8  ...       2 -0.895257\n",
              "102293            12608.0               1  ...       3 -0.857770\n",
              "102293             1899.0               3  ...       3 -0.857770\n",
              "102293            10369.0               5  ...       1 -0.857770\n",
              "102293             1210.0               8  ...       2 -0.857770\n",
              "\n",
              "[294381 rows x 10 columns]"
            ]
          },
          "metadata": {
            "tags": []
          },
          "execution_count": 346
        }
      ]
    },
    {
      "cell_type": "code",
      "metadata": {
        "id": "TXeFJ04ke5Eg"
      },
      "source": [
        "dfScaled.rename(columns={dfScaled.columns[9]: 'scaledConsumption_value'}, inplace=True)"
      ],
      "execution_count": 347,
      "outputs": []
    },
    {
      "cell_type": "code",
      "metadata": {
        "id": "e12X_ptvBE-p",
        "colab": {
          "base_uri": "https://localhost:8080/",
          "height": 419
        },
        "outputId": "d778190b-1c22-4f6b-c407-a35381174a7d"
      },
      "source": [
        "dfScaled"
      ],
      "execution_count": 348,
      "outputs": [
        {
          "output_type": "execute_result",
          "data": {
            "text/html": [
              "<div>\n",
              "<style scoped>\n",
              "    .dataframe tbody tr th:only-of-type {\n",
              "        vertical-align: middle;\n",
              "    }\n",
              "\n",
              "    .dataframe tbody tr th {\n",
              "        vertical-align: top;\n",
              "    }\n",
              "\n",
              "    .dataframe thead th {\n",
              "        text-align: right;\n",
              "    }\n",
              "</style>\n",
              "<table border=\"1\" class=\"dataframe\">\n",
              "  <thead>\n",
              "    <tr style=\"text-align: right;\">\n",
              "      <th></th>\n",
              "      <th>consumption_value</th>\n",
              "      <th>account_number</th>\n",
              "      <th>meter_reading</th>\n",
              "      <th>consumptionTime</th>\n",
              "      <th>consumptionMonth</th>\n",
              "      <th>consumptionDay</th>\n",
              "      <th>consumptionYear</th>\n",
              "      <th>weekday</th>\n",
              "      <th>season</th>\n",
              "      <th>scaledConsumption_value</th>\n",
              "    </tr>\n",
              "  </thead>\n",
              "  <tbody>\n",
              "    <tr>\n",
              "      <th>14637</th>\n",
              "      <td>15710.0</td>\n",
              "      <td>1</td>\n",
              "      <td>2.520880e+08</td>\n",
              "      <td>2</td>\n",
              "      <td>7</td>\n",
              "      <td>31</td>\n",
              "      <td>2006</td>\n",
              "      <td>0</td>\n",
              "      <td>3</td>\n",
              "      <td>1.505826</td>\n",
              "    </tr>\n",
              "    <tr>\n",
              "      <th>14637</th>\n",
              "      <td>8563.0</td>\n",
              "      <td>2</td>\n",
              "      <td>1.331314e+08</td>\n",
              "      <td>1</td>\n",
              "      <td>4</td>\n",
              "      <td>30</td>\n",
              "      <td>2012</td>\n",
              "      <td>0</td>\n",
              "      <td>2</td>\n",
              "      <td>1.505826</td>\n",
              "    </tr>\n",
              "    <tr>\n",
              "      <th>14637</th>\n",
              "      <td>2245.0</td>\n",
              "      <td>3</td>\n",
              "      <td>3.371942e+07</td>\n",
              "      <td>2</td>\n",
              "      <td>7</td>\n",
              "      <td>31</td>\n",
              "      <td>2006</td>\n",
              "      <td>0</td>\n",
              "      <td>3</td>\n",
              "      <td>1.505826</td>\n",
              "    </tr>\n",
              "    <tr>\n",
              "      <th>14637</th>\n",
              "      <td>2424.0</td>\n",
              "      <td>4</td>\n",
              "      <td>3.570426e+07</td>\n",
              "      <td>1</td>\n",
              "      <td>5</td>\n",
              "      <td>1</td>\n",
              "      <td>2013</td>\n",
              "      <td>2</td>\n",
              "      <td>2</td>\n",
              "      <td>1.505826</td>\n",
              "    </tr>\n",
              "    <tr>\n",
              "      <th>14637</th>\n",
              "      <td>9259.0</td>\n",
              "      <td>5</td>\n",
              "      <td>2.512913e+08</td>\n",
              "      <td>1</td>\n",
              "      <td>12</td>\n",
              "      <td>31</td>\n",
              "      <td>2007</td>\n",
              "      <td>0</td>\n",
              "      <td>1</td>\n",
              "      <td>1.505826</td>\n",
              "    </tr>\n",
              "    <tr>\n",
              "      <th>...</th>\n",
              "      <td>...</td>\n",
              "      <td>...</td>\n",
              "      <td>...</td>\n",
              "      <td>...</td>\n",
              "      <td>...</td>\n",
              "      <td>...</td>\n",
              "      <td>...</td>\n",
              "      <td>...</td>\n",
              "      <td>...</td>\n",
              "      <td>...</td>\n",
              "    </tr>\n",
              "    <tr>\n",
              "      <th>102292</th>\n",
              "      <td>1279.0</td>\n",
              "      <td>8</td>\n",
              "      <td>1.661181e+08</td>\n",
              "      <td>23</td>\n",
              "      <td>4</td>\n",
              "      <td>30</td>\n",
              "      <td>2016</td>\n",
              "      <td>5</td>\n",
              "      <td>2</td>\n",
              "      <td>-0.895257</td>\n",
              "    </tr>\n",
              "    <tr>\n",
              "      <th>102293</th>\n",
              "      <td>12608.0</td>\n",
              "      <td>1</td>\n",
              "      <td>1.619366e+09</td>\n",
              "      <td>3</td>\n",
              "      <td>7</td>\n",
              "      <td>30</td>\n",
              "      <td>2016</td>\n",
              "      <td>5</td>\n",
              "      <td>3</td>\n",
              "      <td>-0.857770</td>\n",
              "    </tr>\n",
              "    <tr>\n",
              "      <th>102293</th>\n",
              "      <td>1899.0</td>\n",
              "      <td>3</td>\n",
              "      <td>2.116169e+08</td>\n",
              "      <td>1</td>\n",
              "      <td>7</td>\n",
              "      <td>30</td>\n",
              "      <td>2016</td>\n",
              "      <td>5</td>\n",
              "      <td>3</td>\n",
              "      <td>-0.857770</td>\n",
              "    </tr>\n",
              "    <tr>\n",
              "      <th>102293</th>\n",
              "      <td>10369.0</td>\n",
              "      <td>5</td>\n",
              "      <td>1.017536e+09</td>\n",
              "      <td>0</td>\n",
              "      <td>1</td>\n",
              "      <td>2</td>\n",
              "      <td>2016</td>\n",
              "      <td>5</td>\n",
              "      <td>1</td>\n",
              "      <td>-0.857770</td>\n",
              "    </tr>\n",
              "    <tr>\n",
              "      <th>102293</th>\n",
              "      <td>1210.0</td>\n",
              "      <td>8</td>\n",
              "      <td>1.661193e+08</td>\n",
              "      <td>0</td>\n",
              "      <td>5</td>\n",
              "      <td>1</td>\n",
              "      <td>2016</td>\n",
              "      <td>6</td>\n",
              "      <td>2</td>\n",
              "      <td>-0.857770</td>\n",
              "    </tr>\n",
              "  </tbody>\n",
              "</table>\n",
              "<p>294381 rows × 10 columns</p>\n",
              "</div>"
            ],
            "text/plain": [
              "        consumption_value  account_number  ...  season  scaledConsumption_value\n",
              "14637             15710.0               1  ...       3                 1.505826\n",
              "14637              8563.0               2  ...       2                 1.505826\n",
              "14637              2245.0               3  ...       3                 1.505826\n",
              "14637              2424.0               4  ...       2                 1.505826\n",
              "14637              9259.0               5  ...       1                 1.505826\n",
              "...                   ...             ...  ...     ...                      ...\n",
              "102292             1279.0               8  ...       2                -0.895257\n",
              "102293            12608.0               1  ...       3                -0.857770\n",
              "102293             1899.0               3  ...       3                -0.857770\n",
              "102293            10369.0               5  ...       1                -0.857770\n",
              "102293             1210.0               8  ...       2                -0.857770\n",
              "\n",
              "[294381 rows x 10 columns]"
            ]
          },
          "metadata": {
            "tags": []
          },
          "execution_count": 348
        }
      ]
    },
    {
      "cell_type": "markdown",
      "metadata": {
        "id": "7_QZVJAAfKHJ"
      },
      "source": [
        "###heatmap"
      ]
    },
    {
      "cell_type": "code",
      "metadata": {
        "id": "6bR-C-HffJ0V",
        "colab": {
          "base_uri": "https://localhost:8080/",
          "height": 1000
        },
        "outputId": "dd446fd6-c549-4592-919d-ec32897f71ca"
      },
      "source": [
        "#Correlation calculator and heatmap Function\n",
        "def correlations_heatmap(dset):\n",
        "    \"\"\"\n",
        "    This function is to evaluate models\n",
        "    \"\"\" \n",
        "    corrmat = dset.corr()\n",
        "    top_corr_features = corrmat.index\n",
        "    plt.figure(figsize=(20,20))\n",
        "    #plot heat map\n",
        "    g=sns.heatmap(dset[top_corr_features].corr(),annot=True,cmap=\"Blues\")\n",
        "    return g\n",
        "correlations_heatmap(dfCleaned)"
      ],
      "execution_count": 349,
      "outputs": [
        {
          "output_type": "execute_result",
          "data": {
            "text/plain": [
              "<matplotlib.axes._subplots.AxesSubplot at 0x7f27541810f0>"
            ]
          },
          "metadata": {
            "tags": []
          },
          "execution_count": 349
        },
        {
          "output_type": "display_data",
          "data": {
            "image/png": "[encoded data removed]",
            "text/plain": [
              "<Figure size 1440x1440 with 2 Axes>"
            ]
          },
          "metadata": {
            "tags": [],
            "needs_background": "light"
          }
        }
      ]
    },
    {
      "cell_type": "code",
      "metadata": {
        "id": "prp8foUFLuH_"
      },
      "source": [
        "#finding the mean consumption per hour for accounts \n",
        "dfgrouped=dfCleaned.groupby(['account_number', 'consumptionTime','season','weekday'], as_index=False).agg({'consumption_value':\"mean\"})\n",
        "\n"
      ],
      "execution_count": 350,
      "outputs": []
    },
    {
      "cell_type": "code",
      "metadata": {
        "id": "mHTtoEE4UoTq",
        "colab": {
          "base_uri": "https://localhost:8080/",
          "height": 419
        },
        "outputId": "1672361d-3058-4379-d403-c49bbe062572"
      },
      "source": [
        "dfgrouped"
      ],
      "execution_count": 351,
      "outputs": [
        {
          "output_type": "execute_result",
          "data": {
            "text/html": [
              "<div>\n",
              "<style scoped>\n",
              "    .dataframe tbody tr th:only-of-type {\n",
              "        vertical-align: middle;\n",
              "    }\n",
              "\n",
              "    .dataframe tbody tr th {\n",
              "        vertical-align: top;\n",
              "    }\n",
              "\n",
              "    .dataframe thead th {\n",
              "        text-align: right;\n",
              "    }\n",
              "</style>\n",
              "<table border=\"1\" class=\"dataframe\">\n",
              "  <thead>\n",
              "    <tr style=\"text-align: right;\">\n",
              "      <th></th>\n",
              "      <th>account_number</th>\n",
              "      <th>consumptionTime</th>\n",
              "      <th>season</th>\n",
              "      <th>weekday</th>\n",
              "      <th>consumption_value</th>\n",
              "    </tr>\n",
              "  </thead>\n",
              "  <tbody>\n",
              "    <tr>\n",
              "      <th>0</th>\n",
              "      <td>1</td>\n",
              "      <td>0</td>\n",
              "      <td>1</td>\n",
              "      <td>0</td>\n",
              "      <td>15538.782051</td>\n",
              "    </tr>\n",
              "    <tr>\n",
              "      <th>1</th>\n",
              "      <td>1</td>\n",
              "      <td>0</td>\n",
              "      <td>1</td>\n",
              "      <td>1</td>\n",
              "      <td>16415.237500</td>\n",
              "    </tr>\n",
              "    <tr>\n",
              "      <th>2</th>\n",
              "      <td>1</td>\n",
              "      <td>0</td>\n",
              "      <td>1</td>\n",
              "      <td>2</td>\n",
              "      <td>16422.962025</td>\n",
              "    </tr>\n",
              "    <tr>\n",
              "      <th>3</th>\n",
              "      <td>1</td>\n",
              "      <td>0</td>\n",
              "      <td>1</td>\n",
              "      <td>3</td>\n",
              "      <td>16430.435897</td>\n",
              "    </tr>\n",
              "    <tr>\n",
              "      <th>4</th>\n",
              "      <td>1</td>\n",
              "      <td>0</td>\n",
              "      <td>1</td>\n",
              "      <td>4</td>\n",
              "      <td>16626.605263</td>\n",
              "    </tr>\n",
              "    <tr>\n",
              "      <th>...</th>\n",
              "      <td>...</td>\n",
              "      <td>...</td>\n",
              "      <td>...</td>\n",
              "      <td>...</td>\n",
              "      <td>...</td>\n",
              "    </tr>\n",
              "    <tr>\n",
              "      <th>6043</th>\n",
              "      <td>9</td>\n",
              "      <td>23</td>\n",
              "      <td>4</td>\n",
              "      <td>2</td>\n",
              "      <td>12291.269231</td>\n",
              "    </tr>\n",
              "    <tr>\n",
              "      <th>6044</th>\n",
              "      <td>9</td>\n",
              "      <td>23</td>\n",
              "      <td>4</td>\n",
              "      <td>3</td>\n",
              "      <td>12250.307692</td>\n",
              "    </tr>\n",
              "    <tr>\n",
              "      <th>6045</th>\n",
              "      <td>9</td>\n",
              "      <td>23</td>\n",
              "      <td>4</td>\n",
              "      <td>4</td>\n",
              "      <td>12177.846154</td>\n",
              "    </tr>\n",
              "    <tr>\n",
              "      <th>6046</th>\n",
              "      <td>9</td>\n",
              "      <td>23</td>\n",
              "      <td>4</td>\n",
              "      <td>5</td>\n",
              "      <td>10974.730769</td>\n",
              "    </tr>\n",
              "    <tr>\n",
              "      <th>6047</th>\n",
              "      <td>9</td>\n",
              "      <td>23</td>\n",
              "      <td>4</td>\n",
              "      <td>6</td>\n",
              "      <td>11040.076923</td>\n",
              "    </tr>\n",
              "  </tbody>\n",
              "</table>\n",
              "<p>6048 rows × 5 columns</p>\n",
              "</div>"
            ],
            "text/plain": [
              "      account_number  consumptionTime  season  weekday  consumption_value\n",
              "0                  1                0       1        0       15538.782051\n",
              "1                  1                0       1        1       16415.237500\n",
              "2                  1                0       1        2       16422.962025\n",
              "3                  1                0       1        3       16430.435897\n",
              "4                  1                0       1        4       16626.605263\n",
              "...              ...              ...     ...      ...                ...\n",
              "6043               9               23       4        2       12291.269231\n",
              "6044               9               23       4        3       12250.307692\n",
              "6045               9               23       4        4       12177.846154\n",
              "6046               9               23       4        5       10974.730769\n",
              "6047               9               23       4        6       11040.076923\n",
              "\n",
              "[6048 rows x 5 columns]"
            ]
          },
          "metadata": {
            "tags": []
          },
          "execution_count": 351
        }
      ]
    },
    {
      "cell_type": "code",
      "metadata": {
        "id": "BkAz9gKFeZWZ"
      },
      "source": [
        "X=dfgrouped.iloc[:,[1,4]].values"
      ],
      "execution_count": 352,
      "outputs": []
    },
    {
      "cell_type": "code",
      "metadata": {
        "id": "tjCcTB3w7UHd",
        "colab": {
          "base_uri": "https://localhost:8080/",
          "height": 312
        },
        "outputId": "74e9af52-f9a7-4d1d-9eca-b911f366c79c"
      },
      "source": [
        "# A list holds the Sum Squared Error values for each k\n",
        "wcss = []\n",
        "for k in range(1, 10):\n",
        "  kmeans = KMeans(n_clusters=k, init='k-means++', random_state=42)\n",
        "  kmeans.fit(X)\n",
        "  wcss.append(kmeans.inertia_)\n",
        "plt.plot(range(1, 10),wcss)\n",
        "plt.title(\"The Elbow Method\")\n",
        "plt.xlabel(\"number of clusters\")\n",
        "plt.ylabel(\"wcss\")\n",
        "plt.show"
      ],
      "execution_count": 353,
      "outputs": [
        {
          "output_type": "execute_result",
          "data": {
            "text/plain": [
              "<function matplotlib.pyplot.show>"
            ]
          },
          "metadata": {
            "tags": []
          },
          "execution_count": 353
        },
        {
          "output_type": "display_data",
          "data": {
            "image/png": "[encoded data removed]",
            "text/plain": [
              "<Figure size 432x288 with 1 Axes>"
            ]
          },
          "metadata": {
            "tags": [],
            "needs_background": "light"
          }
        }
      ]
    },
    {
      "cell_type": "code",
      "metadata": {
        "id": "adiajqyT7j_W"
      },
      "source": [
        "kmeans = KMeans(n_clusters=3, init='k-means++', random_state=42)\n",
        "y_kmeans=kmeans.fit_predict(X)"
      ],
      "execution_count": 354,
      "outputs": []
    },
    {
      "cell_type": "code",
      "metadata": {
        "id": "L4swOsbDCmgk",
        "colab": {
          "base_uri": "https://localhost:8080/"
        },
        "outputId": "d785ac07-5c7e-4013-eb93-90a458405a80"
      },
      "source": [
        "print(y_kmeans)"
      ],
      "execution_count": 355,
      "outputs": [
        {
          "output_type": "stream",
          "text": [
            "[2 2 2 ... 2 0 0]\n"
          ],
          "name": "stdout"
        }
      ]
    },
    {
      "cell_type": "code",
      "metadata": {
        "id": "tjat7_a_GL81",
        "colab": {
          "base_uri": "https://localhost:8080/",
          "height": 312
        },
        "outputId": "77fa8d07-476a-4b87-f194-681430586f57"
      },
      "source": [
        "plt.scatter(X[y_kmeans== 0,0], X[y_kmeans == 0,1], s=100, c='red', label = 'Cluster1')\n",
        "plt.scatter(X[y_kmeans== 1,0], X[y_kmeans == 1,1], s=100, c='blue', label = 'Cluster2')\n",
        "plt.scatter(X[y_kmeans== 2,0], X[y_kmeans == 2,1], s=100, c='green', label = 'Cluster3')\n",
        "plt.scatter(kmeans.cluster_centers_[:,0], kmeans.cluster_centers_[:,1], s=300, c='yellow', label='centreoids')\n",
        "plt.title(\"Clusters of accounts\")\n",
        "plt.xlabel(\"Consumption hours\")\n",
        "plt.ylabel(\"Consumption values\")\n",
        "plt.legend()\n",
        "plt.show"
      ],
      "execution_count": 356,
      "outputs": [
        {
          "output_type": "execute_result",
          "data": {
            "text/plain": [
              "<function matplotlib.pyplot.show>"
            ]
          },
          "metadata": {
            "tags": []
          },
          "execution_count": 356
        },
        {
          "output_type": "display_data",
          "data": {
            "image/png": "[encoded data removed]",
            "text/plain": [
              "<Figure size 432x288 with 1 Axes>"
            ]
          },
          "metadata": {
            "tags": [],
            "needs_background": "light"
          }
        }
      ]
    },
    {
      "cell_type": "code",
      "metadata": {
        "id": "T3exYYoNV6V7",
        "colab": {
          "base_uri": "https://localhost:8080/",
          "height": 669
        },
        "outputId": "ada04d7f-1c38-42f8-fca6-dc1d685bbf1a"
      },
      "source": [
        "dfgrouped.head(20)"
      ],
      "execution_count": 357,
      "outputs": [
        {
          "output_type": "execute_result",
          "data": {
            "text/html": [
              "<div>\n",
              "<style scoped>\n",
              "    .dataframe tbody tr th:only-of-type {\n",
              "        vertical-align: middle;\n",
              "    }\n",
              "\n",
              "    .dataframe tbody tr th {\n",
              "        vertical-align: top;\n",
              "    }\n",
              "\n",
              "    .dataframe thead th {\n",
              "        text-align: right;\n",
              "    }\n",
              "</style>\n",
              "<table border=\"1\" class=\"dataframe\">\n",
              "  <thead>\n",
              "    <tr style=\"text-align: right;\">\n",
              "      <th></th>\n",
              "      <th>account_number</th>\n",
              "      <th>consumptionTime</th>\n",
              "      <th>season</th>\n",
              "      <th>weekday</th>\n",
              "      <th>consumption_value</th>\n",
              "    </tr>\n",
              "  </thead>\n",
              "  <tbody>\n",
              "    <tr>\n",
              "      <th>0</th>\n",
              "      <td>1</td>\n",
              "      <td>0</td>\n",
              "      <td>1</td>\n",
              "      <td>0</td>\n",
              "      <td>15538.782051</td>\n",
              "    </tr>\n",
              "    <tr>\n",
              "      <th>1</th>\n",
              "      <td>1</td>\n",
              "      <td>0</td>\n",
              "      <td>1</td>\n",
              "      <td>1</td>\n",
              "      <td>16415.237500</td>\n",
              "    </tr>\n",
              "    <tr>\n",
              "      <th>2</th>\n",
              "      <td>1</td>\n",
              "      <td>0</td>\n",
              "      <td>1</td>\n",
              "      <td>2</td>\n",
              "      <td>16422.962025</td>\n",
              "    </tr>\n",
              "    <tr>\n",
              "      <th>3</th>\n",
              "      <td>1</td>\n",
              "      <td>0</td>\n",
              "      <td>1</td>\n",
              "      <td>3</td>\n",
              "      <td>16430.435897</td>\n",
              "    </tr>\n",
              "    <tr>\n",
              "      <th>4</th>\n",
              "      <td>1</td>\n",
              "      <td>0</td>\n",
              "      <td>1</td>\n",
              "      <td>4</td>\n",
              "      <td>16626.605263</td>\n",
              "    </tr>\n",
              "    <tr>\n",
              "      <th>5</th>\n",
              "      <td>1</td>\n",
              "      <td>0</td>\n",
              "      <td>1</td>\n",
              "      <td>5</td>\n",
              "      <td>16234.653333</td>\n",
              "    </tr>\n",
              "    <tr>\n",
              "      <th>6</th>\n",
              "      <td>1</td>\n",
              "      <td>0</td>\n",
              "      <td>1</td>\n",
              "      <td>6</td>\n",
              "      <td>15406.743243</td>\n",
              "    </tr>\n",
              "    <tr>\n",
              "      <th>7</th>\n",
              "      <td>1</td>\n",
              "      <td>0</td>\n",
              "      <td>2</td>\n",
              "      <td>0</td>\n",
              "      <td>13288.461538</td>\n",
              "    </tr>\n",
              "    <tr>\n",
              "      <th>8</th>\n",
              "      <td>1</td>\n",
              "      <td>0</td>\n",
              "      <td>2</td>\n",
              "      <td>1</td>\n",
              "      <td>14078.474359</td>\n",
              "    </tr>\n",
              "    <tr>\n",
              "      <th>9</th>\n",
              "      <td>1</td>\n",
              "      <td>0</td>\n",
              "      <td>2</td>\n",
              "      <td>2</td>\n",
              "      <td>14158.797468</td>\n",
              "    </tr>\n",
              "    <tr>\n",
              "      <th>10</th>\n",
              "      <td>1</td>\n",
              "      <td>0</td>\n",
              "      <td>2</td>\n",
              "      <td>3</td>\n",
              "      <td>14158.037500</td>\n",
              "    </tr>\n",
              "    <tr>\n",
              "      <th>11</th>\n",
              "      <td>1</td>\n",
              "      <td>0</td>\n",
              "      <td>2</td>\n",
              "      <td>4</td>\n",
              "      <td>14124.126582</td>\n",
              "    </tr>\n",
              "    <tr>\n",
              "      <th>12</th>\n",
              "      <td>1</td>\n",
              "      <td>0</td>\n",
              "      <td>2</td>\n",
              "      <td>5</td>\n",
              "      <td>13569.379747</td>\n",
              "    </tr>\n",
              "    <tr>\n",
              "      <th>13</th>\n",
              "      <td>1</td>\n",
              "      <td>0</td>\n",
              "      <td>2</td>\n",
              "      <td>6</td>\n",
              "      <td>12977.278481</td>\n",
              "    </tr>\n",
              "    <tr>\n",
              "      <th>14</th>\n",
              "      <td>1</td>\n",
              "      <td>0</td>\n",
              "      <td>3</td>\n",
              "      <td>0</td>\n",
              "      <td>14626.087500</td>\n",
              "    </tr>\n",
              "    <tr>\n",
              "      <th>15</th>\n",
              "      <td>1</td>\n",
              "      <td>0</td>\n",
              "      <td>3</td>\n",
              "      <td>1</td>\n",
              "      <td>15596.164557</td>\n",
              "    </tr>\n",
              "    <tr>\n",
              "      <th>16</th>\n",
              "      <td>1</td>\n",
              "      <td>0</td>\n",
              "      <td>3</td>\n",
              "      <td>2</td>\n",
              "      <td>15526.846154</td>\n",
              "    </tr>\n",
              "    <tr>\n",
              "      <th>17</th>\n",
              "      <td>1</td>\n",
              "      <td>0</td>\n",
              "      <td>3</td>\n",
              "      <td>3</td>\n",
              "      <td>15504.269231</td>\n",
              "    </tr>\n",
              "    <tr>\n",
              "      <th>18</th>\n",
              "      <td>1</td>\n",
              "      <td>0</td>\n",
              "      <td>3</td>\n",
              "      <td>4</td>\n",
              "      <td>15442.337500</td>\n",
              "    </tr>\n",
              "    <tr>\n",
              "      <th>19</th>\n",
              "      <td>1</td>\n",
              "      <td>0</td>\n",
              "      <td>3</td>\n",
              "      <td>5</td>\n",
              "      <td>14767.126582</td>\n",
              "    </tr>\n",
              "  </tbody>\n",
              "</table>\n",
              "</div>"
            ],
            "text/plain": [
              "    account_number  consumptionTime  season  weekday  consumption_value\n",
              "0                1                0       1        0       15538.782051\n",
              "1                1                0       1        1       16415.237500\n",
              "2                1                0       1        2       16422.962025\n",
              "3                1                0       1        3       16430.435897\n",
              "4                1                0       1        4       16626.605263\n",
              "5                1                0       1        5       16234.653333\n",
              "6                1                0       1        6       15406.743243\n",
              "7                1                0       2        0       13288.461538\n",
              "8                1                0       2        1       14078.474359\n",
              "9                1                0       2        2       14158.797468\n",
              "10               1                0       2        3       14158.037500\n",
              "11               1                0       2        4       14124.126582\n",
              "12               1                0       2        5       13569.379747\n",
              "13               1                0       2        6       12977.278481\n",
              "14               1                0       3        0       14626.087500\n",
              "15               1                0       3        1       15596.164557\n",
              "16               1                0       3        2       15526.846154\n",
              "17               1                0       3        3       15504.269231\n",
              "18               1                0       3        4       15442.337500\n",
              "19               1                0       3        5       14767.126582"
            ]
          },
          "metadata": {
            "tags": []
          },
          "execution_count": 357
        }
      ]
    },
    {
      "cell_type": "code",
      "metadata": {
        "id": "B__imHl9e4d3",
        "colab": {
          "base_uri": "https://localhost:8080/",
          "height": 419
        },
        "outputId": "2edbab33-1a28-43b9-9938-e1415d5eeedf"
      },
      "source": [
        "cluster_number = pd.DataFrame(y_kmeans)\n",
        "cluster_number"
      ],
      "execution_count": 358,
      "outputs": [
        {
          "output_type": "execute_result",
          "data": {
            "text/html": [
              "<div>\n",
              "<style scoped>\n",
              "    .dataframe tbody tr th:only-of-type {\n",
              "        vertical-align: middle;\n",
              "    }\n",
              "\n",
              "    .dataframe tbody tr th {\n",
              "        vertical-align: top;\n",
              "    }\n",
              "\n",
              "    .dataframe thead th {\n",
              "        text-align: right;\n",
              "    }\n",
              "</style>\n",
              "<table border=\"1\" class=\"dataframe\">\n",
              "  <thead>\n",
              "    <tr style=\"text-align: right;\">\n",
              "      <th></th>\n",
              "      <th>0</th>\n",
              "    </tr>\n",
              "  </thead>\n",
              "  <tbody>\n",
              "    <tr>\n",
              "      <th>0</th>\n",
              "      <td>2</td>\n",
              "    </tr>\n",
              "    <tr>\n",
              "      <th>1</th>\n",
              "      <td>2</td>\n",
              "    </tr>\n",
              "    <tr>\n",
              "      <th>2</th>\n",
              "      <td>2</td>\n",
              "    </tr>\n",
              "    <tr>\n",
              "      <th>3</th>\n",
              "      <td>2</td>\n",
              "    </tr>\n",
              "    <tr>\n",
              "      <th>4</th>\n",
              "      <td>2</td>\n",
              "    </tr>\n",
              "    <tr>\n",
              "      <th>...</th>\n",
              "      <td>...</td>\n",
              "    </tr>\n",
              "    <tr>\n",
              "      <th>6043</th>\n",
              "      <td>2</td>\n",
              "    </tr>\n",
              "    <tr>\n",
              "      <th>6044</th>\n",
              "      <td>2</td>\n",
              "    </tr>\n",
              "    <tr>\n",
              "      <th>6045</th>\n",
              "      <td>2</td>\n",
              "    </tr>\n",
              "    <tr>\n",
              "      <th>6046</th>\n",
              "      <td>0</td>\n",
              "    </tr>\n",
              "    <tr>\n",
              "      <th>6047</th>\n",
              "      <td>0</td>\n",
              "    </tr>\n",
              "  </tbody>\n",
              "</table>\n",
              "<p>6048 rows × 1 columns</p>\n",
              "</div>"
            ],
            "text/plain": [
              "      0\n",
              "0     2\n",
              "1     2\n",
              "2     2\n",
              "3     2\n",
              "4     2\n",
              "...  ..\n",
              "6043  2\n",
              "6044  2\n",
              "6045  2\n",
              "6046  0\n",
              "6047  0\n",
              "\n",
              "[6048 rows x 1 columns]"
            ]
          },
          "metadata": {
            "tags": []
          },
          "execution_count": 358
        }
      ]
    },
    {
      "cell_type": "code",
      "metadata": {
        "id": "PtbiPiyweqVR"
      },
      "source": [
        "dfgrouped=dfgrouped.join(cluster_number)"
      ],
      "execution_count": 359,
      "outputs": []
    },
    {
      "cell_type": "code",
      "metadata": {
        "id": "KI2Dj4RHfJCo",
        "colab": {
          "base_uri": "https://localhost:8080/",
          "height": 419
        },
        "outputId": "973b0c84-caf3-4927-bb37-9b81c5ffcf22"
      },
      "source": [
        "dfgrouped.rename(columns={dfgrouped.columns[5]: 'cluster_number'}, inplace=True)\n",
        "dfgrouped"
      ],
      "execution_count": 360,
      "outputs": [
        {
          "output_type": "execute_result",
          "data": {
            "text/html": [
              "<div>\n",
              "<style scoped>\n",
              "    .dataframe tbody tr th:only-of-type {\n",
              "        vertical-align: middle;\n",
              "    }\n",
              "\n",
              "    .dataframe tbody tr th {\n",
              "        vertical-align: top;\n",
              "    }\n",
              "\n",
              "    .dataframe thead th {\n",
              "        text-align: right;\n",
              "    }\n",
              "</style>\n",
              "<table border=\"1\" class=\"dataframe\">\n",
              "  <thead>\n",
              "    <tr style=\"text-align: right;\">\n",
              "      <th></th>\n",
              "      <th>account_number</th>\n",
              "      <th>consumptionTime</th>\n",
              "      <th>season</th>\n",
              "      <th>weekday</th>\n",
              "      <th>consumption_value</th>\n",
              "      <th>cluster_number</th>\n",
              "    </tr>\n",
              "  </thead>\n",
              "  <tbody>\n",
              "    <tr>\n",
              "      <th>0</th>\n",
              "      <td>1</td>\n",
              "      <td>0</td>\n",
              "      <td>1</td>\n",
              "      <td>0</td>\n",
              "      <td>15538.782051</td>\n",
              "      <td>2</td>\n",
              "    </tr>\n",
              "    <tr>\n",
              "      <th>1</th>\n",
              "      <td>1</td>\n",
              "      <td>0</td>\n",
              "      <td>1</td>\n",
              "      <td>1</td>\n",
              "      <td>16415.237500</td>\n",
              "      <td>2</td>\n",
              "    </tr>\n",
              "    <tr>\n",
              "      <th>2</th>\n",
              "      <td>1</td>\n",
              "      <td>0</td>\n",
              "      <td>1</td>\n",
              "      <td>2</td>\n",
              "      <td>16422.962025</td>\n",
              "      <td>2</td>\n",
              "    </tr>\n",
              "    <tr>\n",
              "      <th>3</th>\n",
              "      <td>1</td>\n",
              "      <td>0</td>\n",
              "      <td>1</td>\n",
              "      <td>3</td>\n",
              "      <td>16430.435897</td>\n",
              "      <td>2</td>\n",
              "    </tr>\n",
              "    <tr>\n",
              "      <th>4</th>\n",
              "      <td>1</td>\n",
              "      <td>0</td>\n",
              "      <td>1</td>\n",
              "      <td>4</td>\n",
              "      <td>16626.605263</td>\n",
              "      <td>2</td>\n",
              "    </tr>\n",
              "    <tr>\n",
              "      <th>...</th>\n",
              "      <td>...</td>\n",
              "      <td>...</td>\n",
              "      <td>...</td>\n",
              "      <td>...</td>\n",
              "      <td>...</td>\n",
              "      <td>...</td>\n",
              "    </tr>\n",
              "    <tr>\n",
              "      <th>6043</th>\n",
              "      <td>9</td>\n",
              "      <td>23</td>\n",
              "      <td>4</td>\n",
              "      <td>2</td>\n",
              "      <td>12291.269231</td>\n",
              "      <td>2</td>\n",
              "    </tr>\n",
              "    <tr>\n",
              "      <th>6044</th>\n",
              "      <td>9</td>\n",
              "      <td>23</td>\n",
              "      <td>4</td>\n",
              "      <td>3</td>\n",
              "      <td>12250.307692</td>\n",
              "      <td>2</td>\n",
              "    </tr>\n",
              "    <tr>\n",
              "      <th>6045</th>\n",
              "      <td>9</td>\n",
              "      <td>23</td>\n",
              "      <td>4</td>\n",
              "      <td>4</td>\n",
              "      <td>12177.846154</td>\n",
              "      <td>2</td>\n",
              "    </tr>\n",
              "    <tr>\n",
              "      <th>6046</th>\n",
              "      <td>9</td>\n",
              "      <td>23</td>\n",
              "      <td>4</td>\n",
              "      <td>5</td>\n",
              "      <td>10974.730769</td>\n",
              "      <td>0</td>\n",
              "    </tr>\n",
              "    <tr>\n",
              "      <th>6047</th>\n",
              "      <td>9</td>\n",
              "      <td>23</td>\n",
              "      <td>4</td>\n",
              "      <td>6</td>\n",
              "      <td>11040.076923</td>\n",
              "      <td>0</td>\n",
              "    </tr>\n",
              "  </tbody>\n",
              "</table>\n",
              "<p>6048 rows × 6 columns</p>\n",
              "</div>"
            ],
            "text/plain": [
              "      account_number  consumptionTime  ...  consumption_value  cluster_number\n",
              "0                  1                0  ...       15538.782051               2\n",
              "1                  1                0  ...       16415.237500               2\n",
              "2                  1                0  ...       16422.962025               2\n",
              "3                  1                0  ...       16430.435897               2\n",
              "4                  1                0  ...       16626.605263               2\n",
              "...              ...              ...  ...                ...             ...\n",
              "6043               9               23  ...       12291.269231               2\n",
              "6044               9               23  ...       12250.307692               2\n",
              "6045               9               23  ...       12177.846154               2\n",
              "6046               9               23  ...       10974.730769               0\n",
              "6047               9               23  ...       11040.076923               0\n",
              "\n",
              "[6048 rows x 6 columns]"
            ]
          },
          "metadata": {
            "tags": []
          },
          "execution_count": 360
        }
      ]
    },
    {
      "cell_type": "code",
      "metadata": {
        "id": "vO-92zheQTSn",
        "colab": {
          "base_uri": "https://localhost:8080/",
          "height": 1000
        },
        "outputId": "85d5b30b-ec07-41ae-e019-3e1ad95731f7"
      },
      "source": [
        "correlations_heatmap(dfgrouped)"
      ],
      "execution_count": 361,
      "outputs": [
        {
          "output_type": "execute_result",
          "data": {
            "text/plain": [
              "<matplotlib.axes._subplots.AxesSubplot at 0x7f2724ab5550>"
            ]
          },
          "metadata": {
            "tags": []
          },
          "execution_count": 361
        },
        {
          "output_type": "display_data",
          "data": {
            "image/png": "[encoded data removed]",
            "text/plain": [
              "<Figure size 1440x1440 with 2 Axes>"
            ]
          },
          "metadata": {
            "tags": [],
            "needs_background": "light"
          }
        }
      ]
    },
    {
      "cell_type": "markdown",
      "metadata": {
        "id": "Knq_cvZxga5W"
      },
      "source": [
        "##Assigning the variables"
      ]
    },
    {
      "cell_type": "code",
      "metadata": {
        "id": "IBvG2GfngbYq",
        "colab": {
          "base_uri": "https://localhost:8080/"
        },
        "outputId": "9129facd-8b29-4662-def7-2c6deb13dc69"
      },
      "source": [
        "y=dfgrouped.iloc[:,4].values\n",
        "x_dataset=dfgrouped\n",
        "x_dataset.drop(['consumption_value','cluster_number'],axis=1,inplace=True)\n",
        "x_dataset.info()\n",
        "X=x_dataset.iloc[:,:].values"
      ],
      "execution_count": 362,
      "outputs": [
        {
          "output_type": "stream",
          "text": [
            "<class 'pandas.core.frame.DataFrame'>\n",
            "Int64Index: 6048 entries, 0 to 6047\n",
            "Data columns (total 4 columns):\n",
            " #   Column           Non-Null Count  Dtype\n",
            "---  ------           --------------  -----\n",
            " 0   account_number   6048 non-null   int64\n",
            " 1   consumptionTime  6048 non-null   int64\n",
            " 2   season           6048 non-null   int64\n",
            " 3   weekday          6048 non-null   int64\n",
            "dtypes: int64(4)\n",
            "memory usage: 396.2 KB\n"
          ],
          "name": "stdout"
        }
      ]
    },
    {
      "cell_type": "markdown",
      "metadata": {
        "id": "hRr1aKmagRyT"
      },
      "source": [
        "##Making sure that the independent varibales are stastically significant to predict the target variable"
      ]
    },
    {
      "cell_type": "code",
      "metadata": {
        "id": "bAQxtnYKgRhu",
        "colab": {
          "base_uri": "https://localhost:8080/"
        },
        "outputId": "9ecf9a8b-2559-49a8-9068-00d25d115a26"
      },
      "source": [
        "import statsmodels.api as sm\n",
        "lr_model = sm.OLS(y, X).fit()\n",
        "print(lr_model.summary())"
      ],
      "execution_count": 363,
      "outputs": [
        {
          "output_type": "stream",
          "text": [
            "                                 OLS Regression Results                                \n",
            "=======================================================================================\n",
            "Dep. Variable:                      y   R-squared (uncentered):                   0.613\n",
            "Model:                            OLS   Adj. R-squared (uncentered):              0.612\n",
            "Method:                 Least Squares   F-statistic:                              2388.\n",
            "Date:                Tue, 19 Jan 2021   Prob (F-statistic):                        0.00\n",
            "Time:                        23:34:14   Log-Likelihood:                         -60780.\n",
            "No. Observations:                6048   AIC:                                  1.216e+05\n",
            "Df Residuals:                    6044   BIC:                                  1.216e+05\n",
            "Df Model:                           4                                                  \n",
            "Covariance Type:            nonrobust                                                  \n",
            "==============================================================================\n",
            "                 coef    std err          t      P>|t|      [0.025      0.975]\n",
            "------------------------------------------------------------------------------\n",
            "x1           -56.2733     24.096     -2.335      0.020    -103.510      -9.036\n",
            "x2           250.5429      9.383     26.701      0.000     232.148     268.938\n",
            "x3          1192.8325     52.394     22.767      0.000    1090.122    1295.543\n",
            "x4           356.9605     33.159     10.765      0.000     291.956     421.965\n",
            "==============================================================================\n",
            "Omnibus:                     1377.496   Durbin-Watson:                   0.094\n",
            "Prob(Omnibus):                  0.000   Jarque-Bera (JB):              271.471\n",
            "Skew:                           0.143   Prob(JB):                     1.12e-59\n",
            "Kurtosis:                       2.002   Cond. No.                         11.1\n",
            "==============================================================================\n",
            "\n",
            "Warnings:\n",
            "[1] Standard Errors assume that the covariance matrix of the errors is correctly specified.\n"
          ],
          "name": "stdout"
        }
      ]
    },
    {
      "cell_type": "markdown",
      "metadata": {
        "id": "Rgbrt6uThhKf"
      },
      "source": [
        "##Splitting the dataset into the training set and test set"
      ]
    },
    {
      "cell_type": "code",
      "metadata": {
        "id": "kZ3n4chZhhhX"
      },
      "source": [
        "from sklearn.model_selection import train_test_split\n",
        "X_train, X_test, y_train, y_test = train_test_split(X, y, test_size = 0.2, random_state = 42)"
      ],
      "execution_count": 364,
      "outputs": []
    },
    {
      "cell_type": "markdown",
      "metadata": {
        "id": "ava00EOJfzsU"
      },
      "source": [
        "#Predicting the consumption value"
      ]
    },
    {
      "cell_type": "markdown",
      "metadata": {
        "id": "Ao46n_Mvi8-o"
      },
      "source": [
        "###Fitting Polynomial Linear Regression to the training set"
      ]
    },
    {
      "cell_type": "code",
      "metadata": {
        "id": "LpY678lgfzgR",
        "colab": {
          "base_uri": "https://localhost:8080/"
        },
        "outputId": "5ef9a68a-a6b1-4a21-e565-0a356bae83e1"
      },
      "source": [
        "from sklearn.linear_model import LinearRegression\n",
        "lin_reg = LinearRegression()\n",
        "lin_reg.fit(X_train,y_train)\n",
        "\n"
      ],
      "execution_count": 365,
      "outputs": [
        {
          "output_type": "execute_result",
          "data": {
            "text/plain": [
              "LinearRegression(copy_X=True, fit_intercept=True, n_jobs=None, normalize=False)"
            ]
          },
          "metadata": {
            "tags": []
          },
          "execution_count": 365
        }
      ]
    },
    {
      "cell_type": "code",
      "metadata": {
        "id": "hvmT7LoJfx2L",
        "colab": {
          "base_uri": "https://localhost:8080/"
        },
        "outputId": "0893d867-3fca-472f-e621-7f7aa00b7b99"
      },
      "source": [
        "# Fitting Polynomial Regression to the dataset\n",
        "from sklearn.preprocessing import PolynomialFeatures\n",
        "poly_reg = PolynomialFeatures(degree = 4)\n",
        "x_poly = poly_reg.fit_transform(X_train)\n",
        "poly_reg.fit(x_poly,y_train)\n",
        "lin_reg2 = LinearRegression()\n",
        "lin_reg2.fit(x_poly,y_train)"
      ],
      "execution_count": 366,
      "outputs": [
        {
          "output_type": "execute_result",
          "data": {
            "text/plain": [
              "LinearRegression(copy_X=True, fit_intercept=True, n_jobs=None, normalize=False)"
            ]
          },
          "metadata": {
            "tags": []
          },
          "execution_count": 366
        }
      ]
    },
    {
      "cell_type": "code",
      "metadata": {
        "id": "EmZxldYEH-AC"
      },
      "source": [
        "y_pred=lin_reg2.predict(poly_reg.fit_transform(X_test))"
      ],
      "execution_count": 367,
      "outputs": []
    },
    {
      "cell_type": "code",
      "metadata": {
        "id": "VL2SVwpwkKgF"
      },
      "source": [
        "from math import sqrt\n",
        "from sklearn.metrics import mean_absolute_error\n",
        "from sklearn.metrics import r2_score\n",
        "from sklearn.metrics import mean_squared_error\n",
        "def evaluate(name,ytest,ypred):\n",
        "    \"\"\"\n",
        "    This function is to evaluate models\n",
        "    \"\"\"\n",
        "    r=r2_score(ytest, ypred)*100\n",
        "    mse=mean_squared_error(ytest, ypred)\n",
        "    mae=mean_absolute_error(ytest, ypred)\n",
        "    rmse=sqrt(mean_absolute_error(ytest, ypred))\n",
        "    actual, pred = np.array(ytest), np.array(ypred)\n",
        "    mparray=(np.abs(actual - pred) / actual)*100\n",
        "    mape=np.mean(mparray)\n",
        "    print(\"The \" + name + \"\\n R2_Score: %.2f%%\"% r \n",
        "          +\" \\n Mean Squared Error is %.2f\"% mse +\n",
        "          \" \\n Mean Absolute Error is %.2f\"% mae+ \n",
        "          \" \\n Mean Absolute Percentage Error is %.2f%%\"% mape+\n",
        "          \" \\n and root mean squared error is %.2f\"% rmse+'\\n')"
      ],
      "execution_count": 368,
      "outputs": []
    },
    {
      "cell_type": "code",
      "metadata": {
        "id": "dJezHQ8nkMGU",
        "colab": {
          "base_uri": "https://localhost:8080/"
        },
        "outputId": "f0662b4e-a89d-49db-e7a6-97e679f359b2"
      },
      "source": [
        "evaluate('Polynomial Linear Regression', y_test, y_pred)"
      ],
      "execution_count": 369,
      "outputs": [
        {
          "output_type": "stream",
          "text": [
            "The Polynomial Linear Regression\n",
            " R2_Score: 60.97% \n",
            " Mean Squared Error is 11349274.17 \n",
            " Mean Absolute Error is 3032.03 \n",
            " Mean Absolute Percentage Error is 90.34% \n",
            " and root mean squared error is 55.06\n",
            "\n"
          ],
          "name": "stdout"
        }
      ]
    },
    {
      "cell_type": "markdown",
      "metadata": {
        "id": "qrndwPa1lr9H"
      },
      "source": [
        "##Decision Tree Regressor Model"
      ]
    },
    {
      "cell_type": "code",
      "metadata": {
        "id": "vzEqmnCMlsUD",
        "colab": {
          "base_uri": "https://localhost:8080/"
        },
        "outputId": "3c27155b-0953-416d-e2e6-d629990e997c"
      },
      "source": [
        "from sklearn.tree import DecisionTreeRegressor\n",
        "regressorDT = DecisionTreeRegressor()\n",
        "regressorDT.fit(X_train, y_train)"
      ],
      "execution_count": 370,
      "outputs": [
        {
          "output_type": "execute_result",
          "data": {
            "text/plain": [
              "DecisionTreeRegressor(ccp_alpha=0.0, criterion='mse', max_depth=None,\n",
              "                      max_features=None, max_leaf_nodes=None,\n",
              "                      min_impurity_decrease=0.0, min_impurity_split=None,\n",
              "                      min_samples_leaf=1, min_samples_split=2,\n",
              "                      min_weight_fraction_leaf=0.0, presort='deprecated',\n",
              "                      random_state=None, splitter='best')"
            ]
          },
          "metadata": {
            "tags": []
          },
          "execution_count": 370
        }
      ]
    },
    {
      "cell_type": "code",
      "metadata": {
        "id": "1xV1lGOGl9p5"
      },
      "source": [
        "y_predDT=regressorDT.predict(X_test)"
      ],
      "execution_count": 371,
      "outputs": []
    },
    {
      "cell_type": "code",
      "metadata": {
        "id": "AYvY8RCKmGRd",
        "colab": {
          "base_uri": "https://localhost:8080/"
        },
        "outputId": "0de917ef-5504-4ae3-8835-11c997b3a0c5"
      },
      "source": [
        "evaluate('Decision Tree Regressor', y_test, y_predDT)"
      ],
      "execution_count": 372,
      "outputs": [
        {
          "output_type": "stream",
          "text": [
            "The Decision Tree Regressor\n",
            " R2_Score: 99.87% \n",
            " Mean Squared Error is 36786.55 \n",
            " Mean Absolute Error is 109.97 \n",
            " Mean Absolute Percentage Error is 1.58% \n",
            " and root mean squared error is 10.49\n",
            "\n"
          ],
          "name": "stdout"
        }
      ]
    },
    {
      "cell_type": "markdown",
      "metadata": {
        "id": "Nl-LbQ9Mon-1"
      },
      "source": [
        "##K Nearest Neighbours Model"
      ]
    },
    {
      "cell_type": "code",
      "metadata": {
        "id": "kUnZPfV_oolW",
        "colab": {
          "base_uri": "https://localhost:8080/"
        },
        "outputId": "006d760a-1e7b-417e-efdf-e57b4fb36587"
      },
      "source": [
        "from sklearn.neighbors import KNeighborsRegressor\n",
        "regressor3 = KNeighborsRegressor()\n",
        "regressor3.fit(X_train, y_train)\n",
        "\n",
        "y_pred3 = regressor3.predict(X_test)\n",
        "\n",
        "evaluate('K Nearest Neighbors Model', y_test, y_pred3)"
      ],
      "execution_count": 373,
      "outputs": [
        {
          "output_type": "stream",
          "text": [
            "The K Nearest Neighbors Model\n",
            " R2_Score: 83.48% \n",
            " Mean Squared Error is 4803468.22 \n",
            " Mean Absolute Error is 1795.43 \n",
            " Mean Absolute Percentage Error is 53.24% \n",
            " and root mean squared error is 42.37\n",
            "\n"
          ],
          "name": "stdout"
        }
      ]
    },
    {
      "cell_type": "markdown",
      "metadata": {
        "id": "smyNk0_-koHA"
      },
      "source": [
        "##Random Forest"
      ]
    },
    {
      "cell_type": "code",
      "metadata": {
        "id": "6kZ9Vx0hknyj"
      },
      "source": [
        "from sklearn.ensemble import RandomForestRegressor\n",
        "RF_SEED = 30\n",
        "\n",
        "regressor1 = RandomForestRegressor(n_estimators=1000, random_state=RF_SEED)\n",
        "regressor1.fit(X_train, y_train)\n",
        "\n",
        "y_pred2 = regressor1.predict(X_test)"
      ],
      "execution_count": 374,
      "outputs": []
    },
    {
      "cell_type": "code",
      "metadata": {
        "id": "h2uStY8Sk04e",
        "colab": {
          "base_uri": "https://localhost:8080/"
        },
        "outputId": "b3104883-fd8e-4310-9577-d4b08d0736c4"
      },
      "source": [
        "evaluate('Random Forest Regressor', y_test, y_pred2)"
      ],
      "execution_count": 375,
      "outputs": [
        {
          "output_type": "stream",
          "text": [
            "The Random Forest Regressor\n",
            " R2_Score: 99.92% \n",
            " Mean Squared Error is 24086.72 \n",
            " Mean Absolute Error is 86.86 \n",
            " Mean Absolute Percentage Error is 1.23% \n",
            " and root mean squared error is 9.32\n",
            "\n"
          ],
          "name": "stdout"
        }
      ]
    },
    {
      "cell_type": "markdown",
      "metadata": {
        "id": "aLCVXUB20sHf"
      },
      "source": [
        "#Processing the new test data for the model"
      ]
    },
    {
      "cell_type": "code",
      "metadata": {
        "id": "hlRov1hPjYDa"
      },
      "source": [
        "#finding the mean consumption per hour for accounts \n",
        "dfgrouped_test=test_df.groupby(['account_number', 'consumptionTime','season','weekday'], as_index=False).agg({'consumption_value':\"mean\"})"
      ],
      "execution_count": 376,
      "outputs": []
    },
    {
      "cell_type": "code",
      "metadata": {
        "id": "O8oH25xBjhTD",
        "colab": {
          "base_uri": "https://localhost:8080/",
          "height": 419
        },
        "outputId": "98446cb0-810d-4662-8aa0-83064687dbc0"
      },
      "source": [
        "dfgrouped_test"
      ],
      "execution_count": 377,
      "outputs": [
        {
          "output_type": "execute_result",
          "data": {
            "text/html": [
              "<div>\n",
              "<style scoped>\n",
              "    .dataframe tbody tr th:only-of-type {\n",
              "        vertical-align: middle;\n",
              "    }\n",
              "\n",
              "    .dataframe tbody tr th {\n",
              "        vertical-align: top;\n",
              "    }\n",
              "\n",
              "    .dataframe thead th {\n",
              "        text-align: right;\n",
              "    }\n",
              "</style>\n",
              "<table border=\"1\" class=\"dataframe\">\n",
              "  <thead>\n",
              "    <tr style=\"text-align: right;\">\n",
              "      <th></th>\n",
              "      <th>account_number</th>\n",
              "      <th>consumptionTime</th>\n",
              "      <th>season</th>\n",
              "      <th>weekday</th>\n",
              "      <th>consumption_value</th>\n",
              "    </tr>\n",
              "  </thead>\n",
              "  <tbody>\n",
              "    <tr>\n",
              "      <th>0</th>\n",
              "      <td>1</td>\n",
              "      <td>0</td>\n",
              "      <td>1</td>\n",
              "      <td>0</td>\n",
              "      <td>14659.181818</td>\n",
              "    </tr>\n",
              "    <tr>\n",
              "      <th>1</th>\n",
              "      <td>1</td>\n",
              "      <td>0</td>\n",
              "      <td>1</td>\n",
              "      <td>1</td>\n",
              "      <td>15057.818182</td>\n",
              "    </tr>\n",
              "    <tr>\n",
              "      <th>2</th>\n",
              "      <td>1</td>\n",
              "      <td>0</td>\n",
              "      <td>1</td>\n",
              "      <td>2</td>\n",
              "      <td>15084.142857</td>\n",
              "    </tr>\n",
              "    <tr>\n",
              "      <th>3</th>\n",
              "      <td>1</td>\n",
              "      <td>0</td>\n",
              "      <td>1</td>\n",
              "      <td>3</td>\n",
              "      <td>15417.900000</td>\n",
              "    </tr>\n",
              "    <tr>\n",
              "      <th>4</th>\n",
              "      <td>1</td>\n",
              "      <td>0</td>\n",
              "      <td>1</td>\n",
              "      <td>4</td>\n",
              "      <td>15604.666667</td>\n",
              "    </tr>\n",
              "    <tr>\n",
              "      <th>...</th>\n",
              "      <td>...</td>\n",
              "      <td>...</td>\n",
              "      <td>...</td>\n",
              "      <td>...</td>\n",
              "      <td>...</td>\n",
              "    </tr>\n",
              "    <tr>\n",
              "      <th>5371</th>\n",
              "      <td>8</td>\n",
              "      <td>23</td>\n",
              "      <td>4</td>\n",
              "      <td>2</td>\n",
              "      <td>1513.846154</td>\n",
              "    </tr>\n",
              "    <tr>\n",
              "      <th>5372</th>\n",
              "      <td>8</td>\n",
              "      <td>23</td>\n",
              "      <td>4</td>\n",
              "      <td>3</td>\n",
              "      <td>1433.000000</td>\n",
              "    </tr>\n",
              "    <tr>\n",
              "      <th>5373</th>\n",
              "      <td>8</td>\n",
              "      <td>23</td>\n",
              "      <td>4</td>\n",
              "      <td>4</td>\n",
              "      <td>1408.538462</td>\n",
              "    </tr>\n",
              "    <tr>\n",
              "      <th>5374</th>\n",
              "      <td>8</td>\n",
              "      <td>23</td>\n",
              "      <td>4</td>\n",
              "      <td>5</td>\n",
              "      <td>1388.384615</td>\n",
              "    </tr>\n",
              "    <tr>\n",
              "      <th>5375</th>\n",
              "      <td>8</td>\n",
              "      <td>23</td>\n",
              "      <td>4</td>\n",
              "      <td>6</td>\n",
              "      <td>1405.230769</td>\n",
              "    </tr>\n",
              "  </tbody>\n",
              "</table>\n",
              "<p>5376 rows × 5 columns</p>\n",
              "</div>"
            ],
            "text/plain": [
              "      account_number  consumptionTime  season  weekday  consumption_value\n",
              "0                  1                0       1        0       14659.181818\n",
              "1                  1                0       1        1       15057.818182\n",
              "2                  1                0       1        2       15084.142857\n",
              "3                  1                0       1        3       15417.900000\n",
              "4                  1                0       1        4       15604.666667\n",
              "...              ...              ...     ...      ...                ...\n",
              "5371               8               23       4        2        1513.846154\n",
              "5372               8               23       4        3        1433.000000\n",
              "5373               8               23       4        4        1408.538462\n",
              "5374               8               23       4        5        1388.384615\n",
              "5375               8               23       4        6        1405.230769\n",
              "\n",
              "[5376 rows x 5 columns]"
            ]
          },
          "metadata": {
            "tags": []
          },
          "execution_count": 377
        }
      ]
    },
    {
      "cell_type": "code",
      "metadata": {
        "id": "rU0b7QBwk5hQ",
        "colab": {
          "base_uri": "https://localhost:8080/"
        },
        "outputId": "89faf8e5-5a4b-4cd7-bafc-6e7117e7b6b9"
      },
      "source": [
        "y2=dfgrouped_test.iloc[:,4].values\n",
        "x_dataset2=dfgrouped_test\n",
        "x_dataset2.drop(['consumption_value'],axis=1,inplace=True)\n",
        "x_dataset2.info()\n",
        "X2=x_dataset2.iloc[:,:].values"
      ],
      "execution_count": 378,
      "outputs": [
        {
          "output_type": "stream",
          "text": [
            "<class 'pandas.core.frame.DataFrame'>\n",
            "Int64Index: 5376 entries, 0 to 5375\n",
            "Data columns (total 4 columns):\n",
            " #   Column           Non-Null Count  Dtype\n",
            "---  ------           --------------  -----\n",
            " 0   account_number   5376 non-null   int64\n",
            " 1   consumptionTime  5376 non-null   int64\n",
            " 2   season           5376 non-null   int64\n",
            " 3   weekday          5376 non-null   int64\n",
            "dtypes: int64(4)\n",
            "memory usage: 210.0 KB\n"
          ],
          "name": "stdout"
        }
      ]
    },
    {
      "cell_type": "markdown",
      "metadata": {
        "id": "3URZYGWH0Ts3"
      },
      "source": [
        "#Testing The New Data Points "
      ]
    },
    {
      "cell_type": "markdown",
      "metadata": {
        "id": "jWB_-DE60gbT"
      },
      "source": [
        "###Testing 2017 Data with Random Forest "
      ]
    },
    {
      "cell_type": "code",
      "metadata": {
        "id": "DXtQ9Gn6rQ8w"
      },
      "source": [
        "y2_pred2 = regressor1.predict(X2)"
      ],
      "execution_count": 379,
      "outputs": []
    },
    {
      "cell_type": "code",
      "metadata": {
        "id": "_8Q6mY7Hv7fB",
        "colab": {
          "base_uri": "https://localhost:8080/"
        },
        "outputId": "97f000e3-5551-4e59-857b-6d4fb41f7fb7"
      },
      "source": [
        "evaluate('Random_forest', y2, y2_pred2)"
      ],
      "execution_count": 380,
      "outputs": [
        {
          "output_type": "stream",
          "text": [
            "The Random_forest\n",
            " R2_Score: 99.46% \n",
            " Mean Squared Error is 139498.92 \n",
            " Mean Absolute Error is 246.92 \n",
            " Mean Absolute Percentage Error is 3.93% \n",
            " and root mean squared error is 15.71\n",
            "\n"
          ],
          "name": "stdout"
        }
      ]
    },
    {
      "cell_type": "code",
      "metadata": {
        "id": "IMDCCMrHog9p",
        "colab": {
          "base_uri": "https://localhost:8080/",
          "height": 312
        },
        "outputId": "9be683ff-f2ab-42fa-8560-c727e2c61b38"
      },
      "source": [
        "plt.scatter(range(1,5377),y2,s=5, c='red', label = 'real')\n",
        "plt.scatter(range(1,5377),y2_pred2,s=5 , c='blue', label = 'predicted')\n",
        "plt.title(\"predicted vs. real\")\n",
        "plt.xlabel(\"real\")\n",
        "plt.ylabel(\"predicted\")\n",
        "plt.show"
      ],
      "execution_count": 381,
      "outputs": [
        {
          "output_type": "execute_result",
          "data": {
            "text/plain": [
              "<function matplotlib.pyplot.show>"
            ]
          },
          "metadata": {
            "tags": []
          },
          "execution_count": 381
        },
        {
          "output_type": "display_data",
          "data": {
            "image/png": "[encoded data removed]",
            "text/plain": [
              "<Figure size 432x288 with 1 Axes>"
            ]
          },
          "metadata": {
            "tags": [],
            "needs_background": "light"
          }
        }
      ]
    },
    {
      "cell_type": "markdown",
      "metadata": {
        "id": "IHNqa7IT1-sy"
      },
      "source": [
        "###Testing 2017 Data with KNN"
      ]
    },
    {
      "cell_type": "code",
      "metadata": {
        "id": "YWmo1bM3tAZ7"
      },
      "source": [
        "#Testing 2017 Data with knn \n",
        "y2_pred3 = regressor3.predict(X2)"
      ],
      "execution_count": 382,
      "outputs": []
    },
    {
      "cell_type": "code",
      "metadata": {
        "id": "e9BqdSnCtOeQ",
        "colab": {
          "base_uri": "https://localhost:8080/"
        },
        "outputId": "03e0a5c4-b7c9-44bd-9434-3f90b08e4ad1"
      },
      "source": [
        "y2_pred3"
      ],
      "execution_count": 383,
      "outputs": [
        {
          "output_type": "execute_result",
          "data": {
            "text/plain": [
              "array([14259.9250037 , 14234.30742643, 15030.92229251, ...,\n",
              "        3751.54594224,  1570.72395326,  4491.21794872])"
            ]
          },
          "metadata": {
            "tags": []
          },
          "execution_count": 383
        }
      ]
    },
    {
      "cell_type": "code",
      "metadata": {
        "id": "Wn4eS6UhvU7m",
        "colab": {
          "base_uri": "https://localhost:8080/"
        },
        "outputId": "b9917b49-b283-41af-b4eb-5ca4935b374a"
      },
      "source": [
        "evaluate('KNN', y2, y2_pred3)"
      ],
      "execution_count": 384,
      "outputs": [
        {
          "output_type": "stream",
          "text": [
            "The KNN\n",
            " R2_Score: 87.59% \n",
            " Mean Squared Error is 3192327.71 \n",
            " Mean Absolute Error is 1418.03 \n",
            " Mean Absolute Percentage Error is 49.74% \n",
            " and root mean squared error is 37.66\n",
            "\n"
          ],
          "name": "stdout"
        }
      ]
    },
    {
      "cell_type": "code",
      "metadata": {
        "id": "JEGGQZZbtT0D",
        "colab": {
          "base_uri": "https://localhost:8080/",
          "height": 312
        },
        "outputId": "6ecd7520-f3ad-494e-db0c-8fa760c7aa2a"
      },
      "source": [
        "plt.scatter(range(1,5377),y2, s=5, c='red', label = 'real')\n",
        "plt.scatter(range(1,5377),y2_pred3, s=5, c='blue', label = 'predicted')\n",
        "plt.title(\"predicted vs. real\")\n",
        "plt.xlabel(\"real\")\n",
        "plt.ylabel(\"predicted\")\n",
        "plt.show"
      ],
      "execution_count": 385,
      "outputs": [
        {
          "output_type": "execute_result",
          "data": {
            "text/plain": [
              "<function matplotlib.pyplot.show>"
            ]
          },
          "metadata": {
            "tags": []
          },
          "execution_count": 385
        },
        {
          "output_type": "display_data",
          "data": {
            "image/png": "[encoded data removed]",
            "text/plain": [
              "<Figure size 432x288 with 1 Axes>"
            ]
          },
          "metadata": {
            "tags": [],
            "needs_background": "light"
          }
        }
      ]
    },
    {
      "cell_type": "markdown",
      "metadata": {
        "id": "HtpVv4an2_Rq"
      },
      "source": [
        "###Testing 2017 Data with Decesion Tree "
      ]
    },
    {
      "cell_type": "code",
      "metadata": {
        "id": "clCMANPytWL4"
      },
      "source": [
        "y2_predDT = regressorDT.predict(X2)"
      ],
      "execution_count": 386,
      "outputs": []
    },
    {
      "cell_type": "code",
      "metadata": {
        "id": "CXxz-aEQvoxJ",
        "colab": {
          "base_uri": "https://localhost:8080/"
        },
        "outputId": "df1e81c9-fc0c-4910-a5b6-f44e50aaf483"
      },
      "source": [
        "evaluate('Decision Tree', y2, y2_predDT)"
      ],
      "execution_count": 387,
      "outputs": [
        {
          "output_type": "stream",
          "text": [
            "The Decision Tree\n",
            " R2_Score: 99.45% \n",
            " Mean Squared Error is 141936.59 \n",
            " Mean Absolute Error is 248.23 \n",
            " Mean Absolute Percentage Error is 3.94% \n",
            " and root mean squared error is 15.76\n",
            "\n"
          ],
          "name": "stdout"
        }
      ]
    },
    {
      "cell_type": "code",
      "metadata": {
        "id": "kukD9ftGta0O",
        "colab": {
          "base_uri": "https://localhost:8080/",
          "height": 312
        },
        "outputId": "80c94274-9051-4b16-aafb-3c777cd7a8e5"
      },
      "source": [
        "plt.scatter(range(1,5377),y2, s=5, c='red', label = 'real')\n",
        "plt.scatter(range(1,5377),y2_predDT, s=5, c='blue', label = 'predicted')\n",
        "plt.title(\"predicted vs. real\")\n",
        "plt.xlabel(\"real\")\n",
        "plt.ylabel(\"predicted\")\n",
        "plt.show"
      ],
      "execution_count": 388,
      "outputs": [
        {
          "output_type": "execute_result",
          "data": {
            "text/plain": [
              "<function matplotlib.pyplot.show>"
            ]
          },
          "metadata": {
            "tags": []
          },
          "execution_count": 388
        },
        {
          "output_type": "display_data",
          "data": {
            "image/png": "[encoded data removed]",
            "text/plain": [
              "<Figure size 432x288 with 1 Axes>"
            ]
          },
          "metadata": {
            "tags": [],
            "needs_background": "light"
          }
        }
      ]
    },
    {
      "cell_type": "code",
      "metadata": {
        "id": "yDjp1dOuB-hV",
        "colab": {
          "base_uri": "https://localhost:8080/"
        },
        "outputId": "3e29ee19-a454-424d-9d47-4aaaac5f91dd"
      },
      "source": [
        "print(\"max: \",y2.max())"
      ],
      "execution_count": 389,
      "outputs": [
        {
          "output_type": "stream",
          "text": [
            "max:  18774.91304347826\n"
          ],
          "name": "stdout"
        }
      ]
    },
    {
      "cell_type": "code",
      "metadata": {
        "id": "yWcfolocCRkG",
        "colab": {
          "base_uri": "https://localhost:8080/"
        },
        "outputId": "00ce162b-46f5-446e-997c-7079f21daafb"
      },
      "source": [
        "print(\"Min: \",y2.min())"
      ],
      "execution_count": 390,
      "outputs": [
        {
          "output_type": "stream",
          "text": [
            "Min:  1022.9545454545455\n"
          ],
          "name": "stdout"
        }
      ]
    },
    {
      "cell_type": "markdown",
      "metadata": {
        "id": "KTSl-BCpD_uW"
      },
      "source": [
        "#Preparing Data to be readable and saved "
      ]
    },
    {
      "cell_type": "code",
      "metadata": {
        "id": "_yK6IsB3D_QQ"
      },
      "source": [
        "df_predictedRD = pd.DataFrame(y2_pred2)\n",
        "df_predictedDT = pd.DataFrame(y2_predDT)\n",
        "df_predictedKNN = pd.DataFrame(y2_pred3)\n",
        "df_real = pd.DataFrame(y2)\n",
        "df_features=  pd.DataFrame(X2)\n",
        "df_features.rename(columns={df_features.columns[0]: 'account_number'}, inplace=True)\n",
        "df_features.rename(columns={df_features.columns[1]: 'consumption_hour'}, inplace=True)\n",
        "df_features.rename(columns={df_features.columns[2]: 'season'}, inplace=True)\n",
        "df_features.rename(columns={df_features.columns[3]: 'weekday'}, inplace=True)\n"
      ],
      "execution_count": 391,
      "outputs": []
    },
    {
      "cell_type": "code",
      "metadata": {
        "id": "8j-qqlWnLOA-"
      },
      "source": [
        "df_joined= df_features.join(df_real)\n"
      ],
      "execution_count": 392,
      "outputs": []
    },
    {
      "cell_type": "code",
      "metadata": {
        "id": "becPPXeHLu8t"
      },
      "source": [
        "df_joined.rename(columns={df_joined.columns[4]: 'real_avg_consumption_value'}, inplace=True)"
      ],
      "execution_count": 393,
      "outputs": []
    },
    {
      "cell_type": "code",
      "metadata": {
        "id": "PeAu91VxLuUW"
      },
      "source": [
        "df_RD= df_joined.join(df_predictedRD)\n",
        "df_RD.rename(columns={df_RD.columns[5]: 'RandomForest_predicted'}, inplace=True)\n",
        "df_DT= df_RD.join(df_predictedDT)\n",
        "df_DT.rename(columns={df_DT.columns[6]: 'DecisionTree_predicted'}, inplace=True)\n",
        "df_final= df_DT.join(df_predictedKNN)\n",
        "df_final.rename(columns={df_final.columns[7]: 'KNN_predicted'}, inplace=True)"
      ],
      "execution_count": 399,
      "outputs": []
    },
    {
      "cell_type": "code",
      "metadata": {
        "id": "3p5yWMRka_Be"
      },
      "source": [
        "df_final['season'] = df_final['season'].map({1:'Winter', 2:'Spring', 3:'Summer',4:'Fall'}) \n",
        "\n",
        "df_final['weekday'] = df_final['weekday'].map({0:'Monday',1:'Tuesday', 2:'Wednesday', 3:'Thursday',4:'Friday',5:'Saturday',6:'Sunday'}) \n"
      ],
      "execution_count": 402,
      "outputs": []
    },
    {
      "cell_type": "code",
      "metadata": {
        "id": "2PtavMChitHd"
      },
      "source": [
        "df_final.real_avg_consumption_value = df_final.real_avg_consumption_value.round()\n",
        "df_final.RandomForest_predicted = df_final.RandomForest_predicted.round()\n",
        "df_final.DecisionTree_predicted = df_final.DecisionTree_predicted.round()\n",
        "df_final.KNN_predicted = df_final.KNN_predicted.round()"
      ],
      "execution_count": 403,
      "outputs": []
    },
    {
      "cell_type": "code",
      "metadata": {
        "colab": {
          "base_uri": "https://localhost:8080/",
          "height": 419
        },
        "id": "UAdXKS5v_RI6",
        "outputId": "a0605806-ba3e-4460-95d0-eee8471fdfdd"
      },
      "source": [
        "df_final.sample(frac=1)"
      ],
      "execution_count": 416,
      "outputs": [
        {
          "output_type": "execute_result",
          "data": {
            "text/html": [
              "<div>\n",
              "<style scoped>\n",
              "    .dataframe tbody tr th:only-of-type {\n",
              "        vertical-align: middle;\n",
              "    }\n",
              "\n",
              "    .dataframe tbody tr th {\n",
              "        vertical-align: top;\n",
              "    }\n",
              "\n",
              "    .dataframe thead th {\n",
              "        text-align: right;\n",
              "    }\n",
              "</style>\n",
              "<table border=\"1\" class=\"dataframe\">\n",
              "  <thead>\n",
              "    <tr style=\"text-align: right;\">\n",
              "      <th></th>\n",
              "      <th>account_number</th>\n",
              "      <th>consumption_hour</th>\n",
              "      <th>season</th>\n",
              "      <th>weekday</th>\n",
              "      <th>real_avg_consumption_value</th>\n",
              "      <th>RandomForest_predicted</th>\n",
              "      <th>DecisionTree_predicted</th>\n",
              "      <th>KNN_predicted</th>\n",
              "    </tr>\n",
              "  </thead>\n",
              "  <tbody>\n",
              "    <tr>\n",
              "      <th>2698</th>\n",
              "      <td>5</td>\n",
              "      <td>0</td>\n",
              "      <td>Spring</td>\n",
              "      <td>Thursday</td>\n",
              "      <td>9542.0</td>\n",
              "      <td>9081.0</td>\n",
              "      <td>9062.0</td>\n",
              "      <td>8533.0</td>\n",
              "    </tr>\n",
              "    <tr>\n",
              "      <th>13</th>\n",
              "      <td>1</td>\n",
              "      <td>0</td>\n",
              "      <td>Spring</td>\n",
              "      <td>Sunday</td>\n",
              "      <td>12556.0</td>\n",
              "      <td>13226.0</td>\n",
              "      <td>12977.0</td>\n",
              "      <td>12819.0</td>\n",
              "    </tr>\n",
              "    <tr>\n",
              "      <th>4082</th>\n",
              "      <td>7</td>\n",
              "      <td>1</td>\n",
              "      <td>Fall</td>\n",
              "      <td>Tuesday</td>\n",
              "      <td>6566.0</td>\n",
              "      <td>6695.0</td>\n",
              "      <td>6768.0</td>\n",
              "      <td>5754.0</td>\n",
              "    </tr>\n",
              "    <tr>\n",
              "      <th>572</th>\n",
              "      <td>1</td>\n",
              "      <td>20</td>\n",
              "      <td>Spring</td>\n",
              "      <td>Saturday</td>\n",
              "      <td>13640.0</td>\n",
              "      <td>14111.0</td>\n",
              "      <td>14065.0</td>\n",
              "      <td>14882.0</td>\n",
              "    </tr>\n",
              "    <tr>\n",
              "      <th>1946</th>\n",
              "      <td>3</td>\n",
              "      <td>21</td>\n",
              "      <td>Summer</td>\n",
              "      <td>Monday</td>\n",
              "      <td>2474.0</td>\n",
              "      <td>2568.0</td>\n",
              "      <td>2574.0</td>\n",
              "      <td>4961.0</td>\n",
              "    </tr>\n",
              "    <tr>\n",
              "      <th>...</th>\n",
              "      <td>...</td>\n",
              "      <td>...</td>\n",
              "      <td>...</td>\n",
              "      <td>...</td>\n",
              "      <td>...</td>\n",
              "      <td>...</td>\n",
              "      <td>...</td>\n",
              "      <td>...</td>\n",
              "    </tr>\n",
              "    <tr>\n",
              "      <th>3921</th>\n",
              "      <td>6</td>\n",
              "      <td>20</td>\n",
              "      <td>Winter</td>\n",
              "      <td>Tuesday</td>\n",
              "      <td>1824.0</td>\n",
              "      <td>2022.0</td>\n",
              "      <td>2025.0</td>\n",
              "      <td>4136.0</td>\n",
              "    </tr>\n",
              "    <tr>\n",
              "      <th>1197</th>\n",
              "      <td>2</td>\n",
              "      <td>18</td>\n",
              "      <td>Fall</td>\n",
              "      <td>Monday</td>\n",
              "      <td>12382.0</td>\n",
              "      <td>12442.0</td>\n",
              "      <td>12361.0</td>\n",
              "      <td>11971.0</td>\n",
              "    </tr>\n",
              "    <tr>\n",
              "      <th>3956</th>\n",
              "      <td>6</td>\n",
              "      <td>21</td>\n",
              "      <td>Spring</td>\n",
              "      <td>Tuesday</td>\n",
              "      <td>1547.0</td>\n",
              "      <td>1431.0</td>\n",
              "      <td>1432.0</td>\n",
              "      <td>3602.0</td>\n",
              "    </tr>\n",
              "    <tr>\n",
              "      <th>3086</th>\n",
              "      <td>5</td>\n",
              "      <td>14</td>\n",
              "      <td>Winter</td>\n",
              "      <td>Sunday</td>\n",
              "      <td>11222.0</td>\n",
              "      <td>10836.0</td>\n",
              "      <td>10726.0</td>\n",
              "      <td>7501.0</td>\n",
              "    </tr>\n",
              "    <tr>\n",
              "      <th>2690</th>\n",
              "      <td>5</td>\n",
              "      <td>0</td>\n",
              "      <td>Winter</td>\n",
              "      <td>Wednesday</td>\n",
              "      <td>11072.0</td>\n",
              "      <td>11077.0</td>\n",
              "      <td>11117.0</td>\n",
              "      <td>9416.0</td>\n",
              "    </tr>\n",
              "  </tbody>\n",
              "</table>\n",
              "<p>5376 rows × 8 columns</p>\n",
              "</div>"
            ],
            "text/plain": [
              "      account_number  consumption_hour  ... DecisionTree_predicted KNN_predicted\n",
              "2698               5                 0  ...                 9062.0        8533.0\n",
              "13                 1                 0  ...                12977.0       12819.0\n",
              "4082               7                 1  ...                 6768.0        5754.0\n",
              "572                1                20  ...                14065.0       14882.0\n",
              "1946               3                21  ...                 2574.0        4961.0\n",
              "...              ...               ...  ...                    ...           ...\n",
              "3921               6                20  ...                 2025.0        4136.0\n",
              "1197               2                18  ...                12361.0       11971.0\n",
              "3956               6                21  ...                 1432.0        3602.0\n",
              "3086               5                14  ...                10726.0        7501.0\n",
              "2690               5                 0  ...                11117.0        9416.0\n",
              "\n",
              "[5376 rows x 8 columns]"
            ]
          },
          "metadata": {
            "tags": []
          },
          "execution_count": 416
        }
      ]
    },
    {
      "cell_type": "code",
      "metadata": {
        "id": "a1Kfg3DQYAWs",
        "colab": {
          "base_uri": "https://localhost:8080/",
          "height": 17
        },
        "outputId": "bd92d7c1-6af5-4a30-b044-9cc293a663ee"
      },
      "source": [
        "df_final.to_csv('After2005ConsumptionPredictionDataResult.csv') \n",
        "files.download(\"After2005ConsumptionPredictionDataResult.csv\")"
      ],
      "execution_count": 405,
      "outputs": [
        {
          "output_type": "display_data",
          "data": {
            "application/javascript": [
              "\n",
              "    async function download(id, filename, size) {\n",
              "      if (!google.colab.kernel.accessAllowed) {\n",
              "        return;\n",
              "      }\n",
              "      const div = document.createElement('div');\n",
              "      const label = document.createElement('label');\n",
              "      label.textContent = `Downloading \"${filename}\": `;\n",
              "      div.appendChild(label);\n",
              "      const progress = document.createElement('progress');\n",
              "      progress.max = size;\n",
              "      div.appendChild(progress);\n",
              "      document.body.appendChild(div);\n",
              "\n",
              "      const buffers = [];\n",
              "      let downloaded = 0;\n",
              "\n",
              "      const channel = await google.colab.kernel.comms.open(id);\n",
              "      // Send a message to notify the kernel that we're ready.\n",
              "      channel.send({})\n",
              "\n",
              "      for await (const message of channel.messages) {\n",
              "        // Send a message to notify the kernel that we're ready.\n",
              "        channel.send({})\n",
              "        if (message.buffers) {\n",
              "          for (const buffer of message.buffers) {\n",
              "            buffers.push(buffer);\n",
              "            downloaded += buffer.byteLength;\n",
              "            progress.value = downloaded;\n",
              "          }\n",
              "        }\n",
              "      }\n",
              "      const blob = new Blob(buffers, {type: 'application/binary'});\n",
              "      const a = document.createElement('a');\n",
              "      a.href = window.URL.createObjectURL(blob);\n",
              "      a.download = filename;\n",
              "      div.appendChild(a);\n",
              "      a.click();\n",
              "      div.remove();\n",
              "    }\n",
              "  "
            ],
            "text/plain": [
              "<IPython.core.display.Javascript object>"
            ]
          },
          "metadata": {
            "tags": []
          }
        },
        {
          "output_type": "display_data",
          "data": {
            "application/javascript": [
              "download(\"download_564b2bb5-54a1-4cd6-a828-0cbbc549bc77\", \"After2005ConsumptionPredictionDataResult.csv\", 286150)"
            ],
            "text/plain": [
              "<IPython.core.display.Javascript object>"
            ]
          },
          "metadata": {
            "tags": []
          }
        }
      ]
    },
    {
      "cell_type": "code",
      "metadata": {
        "id": "juRrnBsgo_FM"
      },
      "source": [
        "AEP=df_final.loc[df_final['account_number'] == 1 & (df_final.season.str.contains('Summer'))& (df_final.weekday.str.contains('Friday'))]\n",
        "\n",
        "Comed=df_final.loc[df_final['account_number'] == 2 & (df_final.season.str.contains('Summer'))& (df_final.weekday.str.contains('Monday'))]\n",
        "\n",
        "DAYTON=df_final.loc[df_final['account_number'] == 3 & (df_final.season.str.contains('Summer'))& (df_final.weekday.str.contains('Sunday'))]\n",
        "\n",
        "DEOK=df_final.loc[df_final['account_number'] == 4 &  (df_final.season.str.contains('Summer'))& (df_final.weekday.str.contains('Tuesday'))]\n",
        "\n",
        "DOM=df_final.loc[df_final['account_number'] == 5 & (df_final.season.str.contains('Summer'))& (df_final.weekday.str.contains('Wednesday'))]\n",
        "\n",
        "EKPC=df_final.loc[df_final['account_number'] == 6 & (df_final.season.str.contains('Summer'))& (df_final.weekday.str.contains('Thursday'))]\n",
        "\n",
        "FE=df_final.loc[df_final['account_number'] == 7 & (df_final.season.str.contains('Summer'))& (df_final.weekday.str.contains('Saturday'))]\n",
        "\n",
        "DUQ=df_final.loc[df_final['account_number'] == 8 & (df_final.season.str.contains('Summer'))& (df_final.weekday.str.contains('Friday'))]\n",
        "\n",
        "NI=df_final.loc[df_final['account_number'] == 9 & (df_final.season.str.contains('Summer'))& (df_final.weekday.str.contains('Friday'))]\n"
      ],
      "execution_count": 406,
      "outputs": []
    },
    {
      "cell_type": "code",
      "metadata": {
        "colab": {
          "base_uri": "https://localhost:8080/",
          "height": 793
        },
        "id": "rpoSkddmwtxi",
        "outputId": "0198defb-5c38-4754-bb44-606ccef01b78"
      },
      "source": [
        "AEP"
      ],
      "execution_count": 407,
      "outputs": [
        {
          "output_type": "execute_result",
          "data": {
            "text/html": [
              "<div>\n",
              "<style scoped>\n",
              "    .dataframe tbody tr th:only-of-type {\n",
              "        vertical-align: middle;\n",
              "    }\n",
              "\n",
              "    .dataframe tbody tr th {\n",
              "        vertical-align: top;\n",
              "    }\n",
              "\n",
              "    .dataframe thead th {\n",
              "        text-align: right;\n",
              "    }\n",
              "</style>\n",
              "<table border=\"1\" class=\"dataframe\">\n",
              "  <thead>\n",
              "    <tr style=\"text-align: right;\">\n",
              "      <th></th>\n",
              "      <th>account_number</th>\n",
              "      <th>consumption_hour</th>\n",
              "      <th>season</th>\n",
              "      <th>weekday</th>\n",
              "      <th>real_avg_consumption_value</th>\n",
              "      <th>RandomForest_predicted</th>\n",
              "      <th>DecisionTree_predicted</th>\n",
              "      <th>KNN_predicted</th>\n",
              "    </tr>\n",
              "  </thead>\n",
              "  <tbody>\n",
              "    <tr>\n",
              "      <th>18</th>\n",
              "      <td>1</td>\n",
              "      <td>0</td>\n",
              "      <td>Summer</td>\n",
              "      <td>Friday</td>\n",
              "      <td>14850.0</td>\n",
              "      <td>15134.0</td>\n",
              "      <td>15442.0</td>\n",
              "      <td>14116.0</td>\n",
              "    </tr>\n",
              "    <tr>\n",
              "      <th>46</th>\n",
              "      <td>1</td>\n",
              "      <td>1</td>\n",
              "      <td>Summer</td>\n",
              "      <td>Friday</td>\n",
              "      <td>13838.0</td>\n",
              "      <td>14222.0</td>\n",
              "      <td>14292.0</td>\n",
              "      <td>13524.0</td>\n",
              "    </tr>\n",
              "    <tr>\n",
              "      <th>74</th>\n",
              "      <td>1</td>\n",
              "      <td>2</td>\n",
              "      <td>Summer</td>\n",
              "      <td>Friday</td>\n",
              "      <td>13111.0</td>\n",
              "      <td>13517.0</td>\n",
              "      <td>13530.0</td>\n",
              "      <td>13282.0</td>\n",
              "    </tr>\n",
              "    <tr>\n",
              "      <th>102</th>\n",
              "      <td>1</td>\n",
              "      <td>3</td>\n",
              "      <td>Summer</td>\n",
              "      <td>Friday</td>\n",
              "      <td>12635.0</td>\n",
              "      <td>12922.0</td>\n",
              "      <td>12773.0</td>\n",
              "      <td>12265.0</td>\n",
              "    </tr>\n",
              "    <tr>\n",
              "      <th>130</th>\n",
              "      <td>1</td>\n",
              "      <td>4</td>\n",
              "      <td>Summer</td>\n",
              "      <td>Friday</td>\n",
              "      <td>12396.0</td>\n",
              "      <td>12795.0</td>\n",
              "      <td>12773.0</td>\n",
              "      <td>11907.0</td>\n",
              "    </tr>\n",
              "    <tr>\n",
              "      <th>158</th>\n",
              "      <td>1</td>\n",
              "      <td>5</td>\n",
              "      <td>Summer</td>\n",
              "      <td>Friday</td>\n",
              "      <td>12450.0</td>\n",
              "      <td>12813.0</td>\n",
              "      <td>12781.0</td>\n",
              "      <td>11896.0</td>\n",
              "    </tr>\n",
              "    <tr>\n",
              "      <th>186</th>\n",
              "      <td>1</td>\n",
              "      <td>6</td>\n",
              "      <td>Summer</td>\n",
              "      <td>Friday</td>\n",
              "      <td>12896.0</td>\n",
              "      <td>13312.0</td>\n",
              "      <td>13258.0</td>\n",
              "      <td>12422.0</td>\n",
              "    </tr>\n",
              "    <tr>\n",
              "      <th>214</th>\n",
              "      <td>1</td>\n",
              "      <td>7</td>\n",
              "      <td>Summer</td>\n",
              "      <td>Friday</td>\n",
              "      <td>13608.0</td>\n",
              "      <td>14123.0</td>\n",
              "      <td>14032.0</td>\n",
              "      <td>12862.0</td>\n",
              "    </tr>\n",
              "    <tr>\n",
              "      <th>242</th>\n",
              "      <td>1</td>\n",
              "      <td>8</td>\n",
              "      <td>Summer</td>\n",
              "      <td>Friday</td>\n",
              "      <td>14322.0</td>\n",
              "      <td>14920.0</td>\n",
              "      <td>14795.0</td>\n",
              "      <td>14438.0</td>\n",
              "    </tr>\n",
              "    <tr>\n",
              "      <th>270</th>\n",
              "      <td>1</td>\n",
              "      <td>9</td>\n",
              "      <td>Summer</td>\n",
              "      <td>Friday</td>\n",
              "      <td>15097.0</td>\n",
              "      <td>15619.0</td>\n",
              "      <td>15565.0</td>\n",
              "      <td>14377.0</td>\n",
              "    </tr>\n",
              "    <tr>\n",
              "      <th>298</th>\n",
              "      <td>1</td>\n",
              "      <td>10</td>\n",
              "      <td>Summer</td>\n",
              "      <td>Friday</td>\n",
              "      <td>15808.0</td>\n",
              "      <td>16341.0</td>\n",
              "      <td>16310.0</td>\n",
              "      <td>15547.0</td>\n",
              "    </tr>\n",
              "    <tr>\n",
              "      <th>326</th>\n",
              "      <td>1</td>\n",
              "      <td>11</td>\n",
              "      <td>Summer</td>\n",
              "      <td>Friday</td>\n",
              "      <td>16562.0</td>\n",
              "      <td>17115.0</td>\n",
              "      <td>17128.0</td>\n",
              "      <td>14730.0</td>\n",
              "    </tr>\n",
              "    <tr>\n",
              "      <th>354</th>\n",
              "      <td>1</td>\n",
              "      <td>12</td>\n",
              "      <td>Summer</td>\n",
              "      <td>Friday</td>\n",
              "      <td>17161.0</td>\n",
              "      <td>17953.0</td>\n",
              "      <td>17986.0</td>\n",
              "      <td>15908.0</td>\n",
              "    </tr>\n",
              "    <tr>\n",
              "      <th>382</th>\n",
              "      <td>1</td>\n",
              "      <td>13</td>\n",
              "      <td>Summer</td>\n",
              "      <td>Friday</td>\n",
              "      <td>17673.0</td>\n",
              "      <td>18420.0</td>\n",
              "      <td>18279.0</td>\n",
              "      <td>16097.0</td>\n",
              "    </tr>\n",
              "    <tr>\n",
              "      <th>410</th>\n",
              "      <td>1</td>\n",
              "      <td>14</td>\n",
              "      <td>Summer</td>\n",
              "      <td>Friday</td>\n",
              "      <td>18118.0</td>\n",
              "      <td>18837.0</td>\n",
              "      <td>18279.0</td>\n",
              "      <td>16396.0</td>\n",
              "    </tr>\n",
              "    <tr>\n",
              "      <th>438</th>\n",
              "      <td>1</td>\n",
              "      <td>15</td>\n",
              "      <td>Summer</td>\n",
              "      <td>Friday</td>\n",
              "      <td>18290.0</td>\n",
              "      <td>18934.0</td>\n",
              "      <td>18937.0</td>\n",
              "      <td>16131.0</td>\n",
              "    </tr>\n",
              "    <tr>\n",
              "      <th>466</th>\n",
              "      <td>1</td>\n",
              "      <td>16</td>\n",
              "      <td>Summer</td>\n",
              "      <td>Friday</td>\n",
              "      <td>18330.0</td>\n",
              "      <td>18973.0</td>\n",
              "      <td>18993.0</td>\n",
              "      <td>17149.0</td>\n",
              "    </tr>\n",
              "    <tr>\n",
              "      <th>494</th>\n",
              "      <td>1</td>\n",
              "      <td>17</td>\n",
              "      <td>Summer</td>\n",
              "      <td>Friday</td>\n",
              "      <td>18304.0</td>\n",
              "      <td>18992.0</td>\n",
              "      <td>19018.0</td>\n",
              "      <td>17578.0</td>\n",
              "    </tr>\n",
              "    <tr>\n",
              "      <th>522</th>\n",
              "      <td>1</td>\n",
              "      <td>18</td>\n",
              "      <td>Summer</td>\n",
              "      <td>Friday</td>\n",
              "      <td>18139.0</td>\n",
              "      <td>18854.0</td>\n",
              "      <td>18798.0</td>\n",
              "      <td>17115.0</td>\n",
              "    </tr>\n",
              "    <tr>\n",
              "      <th>550</th>\n",
              "      <td>1</td>\n",
              "      <td>19</td>\n",
              "      <td>Summer</td>\n",
              "      <td>Friday</td>\n",
              "      <td>17727.0</td>\n",
              "      <td>18530.0</td>\n",
              "      <td>18340.0</td>\n",
              "      <td>16858.0</td>\n",
              "    </tr>\n",
              "    <tr>\n",
              "      <th>578</th>\n",
              "      <td>1</td>\n",
              "      <td>20</td>\n",
              "      <td>Summer</td>\n",
              "      <td>Friday</td>\n",
              "      <td>17154.0</td>\n",
              "      <td>18006.0</td>\n",
              "      <td>17713.0</td>\n",
              "      <td>15907.0</td>\n",
              "    </tr>\n",
              "    <tr>\n",
              "      <th>606</th>\n",
              "      <td>1</td>\n",
              "      <td>21</td>\n",
              "      <td>Summer</td>\n",
              "      <td>Friday</td>\n",
              "      <td>16575.0</td>\n",
              "      <td>17507.0</td>\n",
              "      <td>17221.0</td>\n",
              "      <td>16412.0</td>\n",
              "    </tr>\n",
              "    <tr>\n",
              "      <th>634</th>\n",
              "      <td>1</td>\n",
              "      <td>22</td>\n",
              "      <td>Summer</td>\n",
              "      <td>Friday</td>\n",
              "      <td>16201.0</td>\n",
              "      <td>17192.0</td>\n",
              "      <td>17002.0</td>\n",
              "      <td>15811.0</td>\n",
              "    </tr>\n",
              "    <tr>\n",
              "      <th>662</th>\n",
              "      <td>1</td>\n",
              "      <td>23</td>\n",
              "      <td>Summer</td>\n",
              "      <td>Friday</td>\n",
              "      <td>15266.0</td>\n",
              "      <td>16364.0</td>\n",
              "      <td>16057.0</td>\n",
              "      <td>15216.0</td>\n",
              "    </tr>\n",
              "  </tbody>\n",
              "</table>\n",
              "</div>"
            ],
            "text/plain": [
              "     account_number  consumption_hour  ... DecisionTree_predicted KNN_predicted\n",
              "18                1                 0  ...                15442.0       14116.0\n",
              "46                1                 1  ...                14292.0       13524.0\n",
              "74                1                 2  ...                13530.0       13282.0\n",
              "102               1                 3  ...                12773.0       12265.0\n",
              "130               1                 4  ...                12773.0       11907.0\n",
              "158               1                 5  ...                12781.0       11896.0\n",
              "186               1                 6  ...                13258.0       12422.0\n",
              "214               1                 7  ...                14032.0       12862.0\n",
              "242               1                 8  ...                14795.0       14438.0\n",
              "270               1                 9  ...                15565.0       14377.0\n",
              "298               1                10  ...                16310.0       15547.0\n",
              "326               1                11  ...                17128.0       14730.0\n",
              "354               1                12  ...                17986.0       15908.0\n",
              "382               1                13  ...                18279.0       16097.0\n",
              "410               1                14  ...                18279.0       16396.0\n",
              "438               1                15  ...                18937.0       16131.0\n",
              "466               1                16  ...                18993.0       17149.0\n",
              "494               1                17  ...                19018.0       17578.0\n",
              "522               1                18  ...                18798.0       17115.0\n",
              "550               1                19  ...                18340.0       16858.0\n",
              "578               1                20  ...                17713.0       15907.0\n",
              "606               1                21  ...                17221.0       16412.0\n",
              "634               1                22  ...                17002.0       15811.0\n",
              "662               1                23  ...                16057.0       15216.0\n",
              "\n",
              "[24 rows x 8 columns]"
            ]
          },
          "metadata": {
            "tags": []
          },
          "execution_count": 407
        }
      ]
    },
    {
      "cell_type": "code",
      "metadata": {
        "colab": {
          "base_uri": "https://localhost:8080/",
          "height": 51
        },
        "id": "tayYBLr42C1W",
        "outputId": "d31f7e60-3004-4a90-8d48-cca34324f32d"
      },
      "source": [
        "plt.figure(figsize=(20,20))"
      ],
      "execution_count": 408,
      "outputs": [
        {
          "output_type": "execute_result",
          "data": {
            "text/plain": [
              "<Figure size 1440x1440 with 0 Axes>"
            ]
          },
          "metadata": {
            "tags": []
          },
          "execution_count": 408
        },
        {
          "output_type": "display_data",
          "data": {
            "text/plain": [
              "<Figure size 1440x1440 with 0 Axes>"
            ]
          },
          "metadata": {
            "tags": []
          }
        }
      ]
    },
    {
      "cell_type": "code",
      "metadata": {
        "colab": {
          "base_uri": "https://localhost:8080/",
          "height": 296
        },
        "id": "lvZn7QWcxqwl",
        "outputId": "e928d611-68e3-4222-8b79-903e8cf5d1e8"
      },
      "source": [
        "AEP.plot(x=\"consumption_hour\", y=[\"real_avg_consumption_value\",\"RandomForest_predicted\" ,\"DecisionTree_predicted\",\"KNN_predicted\"])\n",
        "plt.title(\"Predicted values vs real ones per hour for a Summer Friday in AEP\")\n",
        "plt.show()"
      ],
      "execution_count": 421,
      "outputs": [
        {
          "output_type": "display_data",
          "data": {
            "image/png": "[encoded data removed]",
            "text/plain": [
              "<Figure size 432x288 with 1 Axes>"
            ]
          },
          "metadata": {
            "tags": [],
            "needs_background": "light"
          }
        }
      ]
    },
    {
      "cell_type": "code",
      "metadata": {
        "colab": {
          "base_uri": "https://localhost:8080/",
          "height": 296
        },
        "id": "Z_DXxxXmo5nM",
        "outputId": "6bfb5204-0938-40fd-f034-51dfa7c20d95"
      },
      "source": [
        "DAYTON.plot(x=\"consumption_hour\", y=[\"real_avg_consumption_value\",\"RandomForest_predicted\" ,\"DecisionTree_predicted\",\"KNN_predicted\"])\n",
        "plt.title(\"Predicted values vs real ones per hour for a Summer Sunday in DAYTON\")\n",
        "plt.show()"
      ],
      "execution_count": 420,
      "outputs": [
        {
          "output_type": "display_data",
          "data": {
            "image/png": "[encoded data removed]",
            "text/plain": [
              "<Figure size 432x288 with 1 Axes>"
            ]
          },
          "metadata": {
            "tags": [],
            "needs_background": "light"
          }
        }
      ]
    },
    {
      "cell_type": "code",
      "metadata": {
        "colab": {
          "base_uri": "https://localhost:8080/",
          "height": 296
        },
        "id": "xQafFHDR6BgU",
        "outputId": "cf0cdb6a-4f66-44db-fc2f-11fa3ad79ec0"
      },
      "source": [
        "DOM.plot(x=\"consumption_hour\", y=[\"real_avg_consumption_value\",\"RandomForest_predicted\" ,\"DecisionTree_predicted\",\"KNN_predicted\"])\n",
        "plt.title(\"Predicted values vs real ones per hour for a Summer Wednesday in DOM\")\n",
        "plt.show()"
      ],
      "execution_count": 419,
      "outputs": [
        {
          "output_type": "display_data",
          "data": {
            "image/png": "[encoded data removed]",
            "text/plain": [
              "<Figure size 432x288 with 1 Axes>"
            ]
          },
          "metadata": {
            "tags": [],
            "needs_background": "light"
          }
        }
      ]
    },
    {
      "cell_type": "code",
      "metadata": {
        "colab": {
          "base_uri": "https://localhost:8080/",
          "height": 296
        },
        "id": "KZsOIZoK6YGU",
        "outputId": "b0b4cca9-8dfb-4cae-9b99-fd764a927f53"
      },
      "source": [
        "FE.plot(x=\"consumption_hour\", y=[\"real_avg_consumption_value\",\"RandomForest_predicted\" ,\"DecisionTree_predicted\",\"KNN_predicted\"])\n",
        "plt.title(\"Predicted values vs real ones per hour for a Summer Saturday in FE\")\n",
        "plt.show()"
      ],
      "execution_count": 422,
      "outputs": [
        {
          "output_type": "display_data",
          "data": {
            "image/png": "[encoded data removed]",
            "text/plain": [
              "<Figure size 432x288 with 1 Axes>"
            ]
          },
          "metadata": {
            "tags": [],
            "needs_background": "light"
          }
        }
      ]
    },
    {
      "cell_type": "code",
      "metadata": {
        "colab": {
          "base_uri": "https://localhost:8080/",
          "height": 280
        },
        "id": "zTUZDyiY6luP",
        "outputId": "5e4c50b1-15bc-4014-ccf4-1f1908c81219"
      },
      "source": [
        "NI.plot(x=\"consumption_hour\", y=[\"real_avg_consumption_value\",\"RandomForest_predicted\" ,\"DecisionTree_predicted\",\"KNN_predicted\"])\n",
        "\n",
        "plt.show()"
      ],
      "execution_count": 413,
      "outputs": [
        {
          "output_type": "display_data",
          "data": {
            "image/png": "[encoded data removed]",
            "text/plain": [
              "<Figure size 432x288 with 1 Axes>"
            ]
          },
          "metadata": {
            "tags": [],
            "needs_background": "light"
          }
        }
      ]
    }
  ]
}